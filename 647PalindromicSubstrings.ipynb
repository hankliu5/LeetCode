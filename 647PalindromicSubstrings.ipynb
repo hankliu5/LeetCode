{
 "cells": [
  {
   "cell_type": "code",
   "execution_count": 1,
   "metadata": {},
   "outputs": [
    {
     "data": {
      "text/plain": [
       "15"
      ]
     },
     "execution_count": 1,
     "metadata": {},
     "output_type": "execute_result"
    }
   ],
   "source": [
    "# Palindromic String\n",
    "\n",
    "class Solution(object):\n",
    "    def countSubstrings(self, s):\n",
    "        \"\"\"\n",
    "        :type s: str\n",
    "        :rtype: int\n",
    "        \"\"\"\n",
    "        count = 0\n",
    "                \n",
    "        if s is None or not s:\n",
    "            return 0\n",
    "        \n",
    "        for i in range(len(s)):\n",
    "            # odd case\n",
    "            count += self.palindrome(s, i, i)\n",
    "            # even case\n",
    "            count += self.palindrome(s, i, i+1)\n",
    "        \n",
    "        return count\n",
    "    \n",
    "    def palindrome(self, s, left, right):\n",
    "        count = 0\n",
    "        while left >= 0 and right < len(s) and s[left] == s[right]:\n",
    "            count += 1\n",
    "            left -= 1\n",
    "            right += 1\n",
    "        return count\n",
    "\n",
    "s = Solution()\n",
    "s.countSubstrings(\"aaaaa\")"
   ]
  },
  {
   "cell_type": "code",
   "execution_count": null,
   "metadata": {
    "collapsed": true
   },
   "outputs": [],
   "source": []
  }
 ],
 "metadata": {
  "kernelspec": {
   "display_name": "Python 3",
   "language": "python",
   "name": "python3"
  },
  "language_info": {
   "codemirror_mode": {
    "name": "ipython",
    "version": 3
   },
   "file_extension": ".py",
   "mimetype": "text/x-python",
   "name": "python",
   "nbconvert_exporter": "python",
   "pygments_lexer": "ipython3",
   "version": "3.6.5"
  }
 },
 "nbformat": 4,
 "nbformat_minor": 2
}
