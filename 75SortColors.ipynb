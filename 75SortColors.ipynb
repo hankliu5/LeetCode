{
 "cells": [
  {
   "cell_type": "code",
   "execution_count": 2,
   "metadata": {},
   "outputs": [
    {
     "name": "stdout",
     "output_type": "stream",
     "text": [
      "[0, 0, 1, 1, 2, 2]\n"
     ]
    }
   ],
   "source": [
    "# Sorting, in-place\n",
    "\n",
    "class Solution(object):\n",
    "    def sortColors(self, nums):\n",
    "        \"\"\"\n",
    "        :type nums: List[int]\n",
    "        :rtype: void Do not return anything, modify nums in-place instead.\n",
    "        \"\"\"\n",
    "        # [0, i), [i, j), [j, k) are 0s, 1s, 2s respectively.\n",
    "        i = j = 0\n",
    "        for k in range(len(nums)):\n",
    "            v = nums[k]\n",
    "            nums[k] = 2\n",
    "            # counts the nums that are smaller than 2\n",
    "            if v < 2:\n",
    "                nums[j] = 1\n",
    "                j += 1\n",
    "            # counts the nums that are smaller than 1\n",
    "            if v < 1:\n",
    "                nums[i] = 0\n",
    "                i += 1\n",
    "        print nums\n",
    "\n",
    "s = Solution()\n",
    "s.sortColors([2,0,2,1,1,0])"
   ]
  },
  {
   "cell_type": "code",
   "execution_count": null,
   "metadata": {
    "collapsed": true
   },
   "outputs": [],
   "source": []
  }
 ],
 "metadata": {
  "kernelspec": {
   "display_name": "Python 2",
   "language": "python",
   "name": "python2"
  },
  "language_info": {
   "codemirror_mode": {
    "name": "ipython",
    "version": 2
   },
   "file_extension": ".py",
   "mimetype": "text/x-python",
   "name": "python",
   "nbconvert_exporter": "python",
   "pygments_lexer": "ipython2",
   "version": "2.7.10"
  }
 },
 "nbformat": 4,
 "nbformat_minor": 2
}
