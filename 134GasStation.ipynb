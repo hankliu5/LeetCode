{
 "cells": [
  {
   "cell_type": "code",
   "execution_count": 2,
   "metadata": {},
   "outputs": [
    {
     "name": "stdout",
     "output_type": "stream",
     "text": [
      "-2\n",
      "-4\n",
      "-6\n",
      "-3\n",
      "0\n"
     ]
    },
    {
     "data": {
      "text/plain": [
       "3"
      ]
     },
     "execution_count": 2,
     "metadata": {},
     "output_type": "execute_result"
    }
   ],
   "source": [
    "# Math\n",
    "\n",
    "# find out the minimum of the gas left, and the next index is the start point.\n",
    "class Solution(object):\n",
    "    # The solution is unique\n",
    "    def canCompleteCircuit(self, gas, cost):\n",
    "        \"\"\"\n",
    "        :type gas: List[int]\n",
    "        :type cost: List[int]\n",
    "        :rtype: int\n",
    "        \"\"\"\n",
    "        total = 0\n",
    "        subsum = float('inf')\n",
    "        start = 0\n",
    "        for i in range(len(gas)):\n",
    "            total += gas[i] - cost[i]\n",
    "            if total < subsum:\n",
    "                subsum = total\n",
    "                start = i + 1\n",
    "            print total\n",
    "        # if the total is less than 0, that means it is impossible to complete the circuit.\n",
    "        return -1 if total < 0 else (start % len(gas))\n",
    "\n",
    " \n",
    "s = Solution()\n",
    "s.canCompleteCircuit([1,2,3,4,5],[3,4,5,1,2])"
   ]
  },
  {
   "cell_type": "code",
   "execution_count": null,
   "metadata": {
    "collapsed": true
   },
   "outputs": [],
   "source": []
  }
 ],
 "metadata": {
  "kernelspec": {
   "display_name": "Python 2",
   "language": "python",
   "name": "python2"
  },
  "language_info": {
   "codemirror_mode": {
    "name": "ipython",
    "version": 2
   },
   "file_extension": ".py",
   "mimetype": "text/x-python",
   "name": "python",
   "nbconvert_exporter": "python",
   "pygments_lexer": "ipython2",
   "version": "2.7.10"
  }
 },
 "nbformat": 4,
 "nbformat_minor": 2
}
