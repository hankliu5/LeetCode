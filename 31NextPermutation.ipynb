{
 "cells": [
  {
   "cell_type": "markdown",
   "metadata": {},
   "source": [
    "Algorithm link: https://en.wikipedia.org/wiki/Permutation\n",
    "\n",
    "1. Find the largest index `k` such that `nums[k]` < `nums[k + 1]`. If no such index exists, the permutation is sorted in descending order, just reverse it to ascending order and we are done. For example, the next permutation of `[3, 2, 1]` is `[1, 2, 3]`.\n",
    "2. Find the largest index `l` greater than `k` such that `nums[k]` < `nums[l]`.\n",
    "3. Swap the value of `nums[k]` with that of `nums[l]`.\n",
    "4. Reverse the sequence from `nums[k + 1]` up to and including the final element `nums[nums.size() - 1]`."
   ]
  },
  {
   "cell_type": "code",
   "execution_count": 3,
   "metadata": {},
   "outputs": [
    {
     "name": "stdout",
     "output_type": "stream",
     "text": [
      "[1, 3, 4, 5, 2] 2 3\n",
      "[1, 3, 5, 4, 2]\n",
      "[1, 3, 5, 2, 4]\n"
     ]
    }
   ],
   "source": [
    "# Permutation, Math\n",
    "\n",
    "class Solution(object):\n",
    "    def nextPermutation(self, nums):\n",
    "        \"\"\"\n",
    "        :type nums: List[int]\n",
    "        :rtype: void Do not return anything, modify nums in-place instead.\n",
    "        \"\"\"\n",
    "        k = -1\n",
    "        for i in range(len(nums) - 2, -1, -1):\n",
    "            if (nums[i] < nums[i+1]):\n",
    "                k = i\n",
    "                break\n",
    "        \n",
    "        if (k == -1):\n",
    "            self.reverse(nums, 0)\n",
    "            return\n",
    "        \n",
    "        l = -1\n",
    "        for i in range(len(nums) - 1, k, -1):\n",
    "            if nums[i] > nums[k]:\n",
    "                l = i\n",
    "                break\n",
    "        print nums, k, l\n",
    "        nums[k], nums[l] = nums[l], nums[k]\n",
    "        print nums\n",
    "        self.reverse(nums, k+1)\n",
    "        print nums\n",
    "        \n",
    "    def reverse(self, nums, begin):\n",
    "        i = begin\n",
    "        j = len(nums) - 1\n",
    "        while i < j:\n",
    "            nums[i], nums[j] = nums[j], nums[i]\n",
    "            i += 1\n",
    "            j -= 1\n",
    "\n",
    "s = Solution()\n",
    "s.nextPermutation([1,3,4,5,2])"
   ]
  },
  {
   "cell_type": "code",
   "execution_count": null,
   "metadata": {
    "collapsed": true
   },
   "outputs": [],
   "source": []
  }
 ],
 "metadata": {
  "kernelspec": {
   "display_name": "Python 2",
   "language": "python",
   "name": "python2"
  },
  "language_info": {
   "codemirror_mode": {
    "name": "ipython",
    "version": 2
   },
   "file_extension": ".py",
   "mimetype": "text/x-python",
   "name": "python",
   "nbconvert_exporter": "python",
   "pygments_lexer": "ipython2",
   "version": "2.7.10"
  }
 },
 "nbformat": 4,
 "nbformat_minor": 2
}
