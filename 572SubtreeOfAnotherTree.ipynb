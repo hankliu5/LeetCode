{
 "cells": [
  {
   "cell_type": "code",
   "execution_count": null,
   "metadata": {
    "collapsed": true
   },
   "outputs": [],
   "source": [
    "# Binary Tree, DFS\n",
    "# Time complexity O(s*t)\n",
    "\n",
    "# Definition for a binary tree node.\n",
    "# class TreeNode(object):\n",
    "#     def __init__(self, x):\n",
    "#         self.val = x\n",
    "#         self.left = None\n",
    "#         self.right = None\n",
    "\n",
    "class Solution(object):\n",
    "    def isSubtree(self, s, t):\n",
    "        \"\"\"\n",
    "        :type s: TreeNode\n",
    "        :type t: TreeNode\n",
    "        :rtype: bool\n",
    "        \"\"\"\n",
    "        if self.isMatch(s, t):\n",
    "            return True\n",
    "        if not s: return False\n",
    "        return self.isSubtree(s.left, t) or self.isSubtree(s.right, t)\n",
    "    \n",
    "    def isMatch(self, s, t):\n",
    "        if not (s and t):\n",
    "            return s is t\n",
    "        return s.val == t.val and self.isMatch(s.left, t.left) and self.isMatch(s.right, t.right)\n",
    "\n",
    "# Time complexity DFS O(s + t) + String find O(s)\n",
    "class Solution2(object):\n",
    "    def isSubtree(self, s, t):\n",
    "        \"\"\"\n",
    "        :type s: TreeNode\n",
    "        :type t: TreeNode\n",
    "        :rtype: bool\n",
    "        \"\"\"\n",
    "        str_s = self.preorder(s)\n",
    "        str_t = self.preorder(t)\n",
    "        print str_s, str_t\n",
    "        return self.preorder(t) in self.preorder(s)\n",
    "    \n",
    "    def preorder(self,node):\n",
    "        if not node:\n",
    "            return \"*\"\n",
    "        else:\n",
    "            return \" \" + str(node.val) + self.preorder(node.left) + self.preorder(node.right)\n",
    "        "
   ]
  }
 ],
 "metadata": {
  "kernelspec": {
   "display_name": "Python 2",
   "language": "python",
   "name": "python2"
  },
  "language_info": {
   "codemirror_mode": {
    "name": "ipython",
    "version": 2
   },
   "file_extension": ".py",
   "mimetype": "text/x-python",
   "name": "python",
   "nbconvert_exporter": "python",
   "pygments_lexer": "ipython2",
   "version": "2.7.10"
  }
 },
 "nbformat": 4,
 "nbformat_minor": 2
}
