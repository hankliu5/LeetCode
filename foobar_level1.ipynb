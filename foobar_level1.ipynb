{
 "cells": [
  {
   "cell_type": "code",
   "execution_count": 21,
   "metadata": {},
   "outputs": [
    {
     "data": {
      "text/plain": [
       "'71113'"
      ]
     },
     "execution_count": 21,
     "metadata": {},
     "output_type": "execute_result"
    }
   ],
   "source": [
    "import math\n",
    "def answer(n):\n",
    "    # your code here\n",
    "    return sieve(20300)[n:n+5]\n",
    "\n",
    "def sieve(n):\n",
    "    arr = [True for _ in range(n+1)]\n",
    "    ret = []\n",
    "    for i in range(2, int(math.sqrt(n))):\n",
    "        if arr[i] is True:\n",
    "            j = i * i\n",
    "            while j <= n:\n",
    "                arr[j] = False\n",
    "                j += i\n",
    "    for i in range(len(arr)):\n",
    "        if arr[i] is True:\n",
    "            ret.append(str(i))\n",
    "    return ''.join(ret[2:])\n",
    "\n",
    "answer(3)"
   ]
  },
  {
   "cell_type": "code",
   "execution_count": null,
   "metadata": {
    "collapsed": true
   },
   "outputs": [],
   "source": []
  }
 ],
 "metadata": {
  "kernelspec": {
   "display_name": "Python 2",
   "language": "python",
   "name": "python2"
  },
  "language_info": {
   "codemirror_mode": {
    "name": "ipython",
    "version": 2
   },
   "file_extension": ".py",
   "mimetype": "text/x-python",
   "name": "python",
   "nbconvert_exporter": "python",
   "pygments_lexer": "ipython2",
   "version": "2.7.10"
  }
 },
 "nbformat": 4,
 "nbformat_minor": 2
}
