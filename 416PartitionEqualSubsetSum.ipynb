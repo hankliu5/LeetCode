{
 "cells": [
  {
   "cell_type": "code",
   "execution_count": 4,
   "metadata": {},
   "outputs": [
    {
     "name": "stdout",
     "output_type": "stream",
     "text": [
      "[True, False, False, False, False, False, False, False, False, False, False, False]\n",
      "[True, False, False, False, False, False, False, False, False, False, False, False]\n",
      "[True, False, False, False, False, False, False, False, False, False, False, False]\n",
      "[True, False, False, False, False, False, False, False, False, False, False, False]\n",
      "[True, False, False, False, False, False, False, False, False, False, False, False]\n",
      "[True, False, False, False, False, False, False, False, False, False, False, False]\n",
      "[True, False, False, False, False, False, False, False, False, False, False, False]\n",
      "[True, False, False, False, False, False, False, False, False, False, False, False]\n",
      "[True, False, False, False, False, False, False, False, False, False, False, False]\n",
      "[True, False, False, False, False, False, False, False, False, False, False, False]\n",
      "[True, True, False, False, False, False, False, False, False, False, False, False]\n",
      "\n",
      "[True, True, False, False, False, False, False, False, False, False, False, False]\n",
      "[True, True, False, False, False, False, False, False, False, False, False, False]\n",
      "[True, True, False, False, False, False, False, False, False, False, False, False]\n",
      "[True, True, False, False, False, False, False, False, False, False, False, False]\n",
      "[True, True, False, False, False, False, False, False, False, False, False, False]\n",
      "[True, True, False, False, False, False, True, False, False, False, False, False]\n",
      "[True, True, False, False, False, True, True, False, False, False, False, False]\n",
      "\n",
      "[True, True, False, False, False, True, True, False, False, False, False, True]\n",
      "\n",
      "[True, True, False, False, False, True, True, False, False, False, False, True]\n",
      "[True, True, False, False, False, True, True, False, False, False, True, True]\n",
      "[True, True, False, False, False, True, True, False, False, False, True, True]\n",
      "[True, True, False, False, False, True, True, False, False, False, True, True]\n",
      "[True, True, False, False, False, True, True, False, False, False, True, True]\n",
      "[True, True, False, False, False, True, True, False, False, False, True, True]\n",
      "[True, True, False, False, False, True, True, False, False, False, True, True]\n",
      "\n"
     ]
    },
    {
     "data": {
      "text/plain": [
       "True"
      ]
     },
     "execution_count": 4,
     "metadata": {},
     "output_type": "execute_result"
    }
   ],
   "source": [
    "class Solution(object):\n",
    "    def canPartition(self, nums):\n",
    "        \"\"\"\n",
    "        :type nums: List[int]\n",
    "        :rtype: bool\n",
    "        \"\"\"\n",
    "        total = sum(nums)\n",
    "        \n",
    "        # if odd number, cannot separate evenly.\n",
    "        if total & 1 == 1:\n",
    "            return False\n",
    "        \n",
    "        total //= 2\n",
    "        \n",
    "        n = len(nums)\n",
    "        \n",
    "        # solution space, from index 0 to total\n",
    "        dp = [False for _ in range(total+1)]\n",
    "        \n",
    "        dp[0] = True\n",
    "        \n",
    "        \n",
    "        # starts from only have the first number to the all numbers\n",
    "        for i in range(n):\n",
    "            for j in range(total, nums[i]-1, -1):  \n",
    "                \n",
    "                # 1. if don't pick up the nums[i], the dp[j] is already true\n",
    "                # 2. pick up the nums[i], the dp[j - nums[i]] is True\n",
    "                dp[j] = dp[j] or dp[j - nums[i]]\n",
    "                print dp\n",
    "            print\n",
    "                \n",
    "        return dp[total]\n",
    "    \n",
    "s = Solution()\n",
    "s.canPartition([1,5,11,5])"
   ]
  },
  {
   "cell_type": "code",
   "execution_count": null,
   "metadata": {
    "collapsed": true
   },
   "outputs": [],
   "source": []
  }
 ],
 "metadata": {
  "kernelspec": {
   "display_name": "Python 2",
   "language": "python",
   "name": "python2"
  },
  "language_info": {
   "codemirror_mode": {
    "name": "ipython",
    "version": 2
   },
   "file_extension": ".py",
   "mimetype": "text/x-python",
   "name": "python",
   "nbconvert_exporter": "python",
   "pygments_lexer": "ipython2",
   "version": "2.7.10"
  }
 },
 "nbformat": 4,
 "nbformat_minor": 2
}
