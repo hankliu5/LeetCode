{
 "cells": [
  {
   "cell_type": "code",
   "execution_count": null,
   "metadata": {
    "collapsed": true
   },
   "outputs": [],
   "source": [
    "# DFS, binary tree\n",
    "\n",
    "# Definition for a binary tree node.\n",
    "# class TreeNode(object):\n",
    "#     def __init__(self, x):\n",
    "#         self.val = x\n",
    "#         self.left = None\n",
    "#         self.right = None\n",
    "\n",
    "# Input: The root of a Binary Search Tree like this:\n",
    "#               5\n",
    "#             /   \\\n",
    "#            2     13\n",
    "\n",
    "# Output: The root of a Greater Tree like this:\n",
    "#              18\n",
    "#             /   \\\n",
    "#           20     13\n",
    "class Solution(object):\n",
    "    def convertBST(self, root):\n",
    "        \"\"\"\n",
    "        :type root: TreeNode\n",
    "        :rtype: TreeNode\n",
    "        \"\"\"\n",
    "        self.total = 0\n",
    "        def dfs(curr):\n",
    "            if curr is None:\n",
    "                return\n",
    "            dfs(curr.right)\n",
    "            curr.val += self.total\n",
    "            self.total = curr.val\n",
    "            dfs(curr.left)\n",
    "        dfs(root)\n",
    "        return root\n",
    "        "
   ]
  }
 ],
 "metadata": {
  "kernelspec": {
   "display_name": "Python 2",
   "language": "python",
   "name": "python2"
  },
  "language_info": {
   "codemirror_mode": {
    "name": "ipython",
    "version": 2
   },
   "file_extension": ".py",
   "mimetype": "text/x-python",
   "name": "python",
   "nbconvert_exporter": "python",
   "pygments_lexer": "ipython2",
   "version": "2.7.10"
  }
 },
 "nbformat": 4,
 "nbformat_minor": 2
}
