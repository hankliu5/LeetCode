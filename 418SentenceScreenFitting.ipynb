{
 "cells": [
  {
   "cell_type": "code",
   "execution_count": 2,
   "metadata": {},
   "outputs": [
    {
     "name": "stdout",
     "output_type": "stream",
     "text": [
      "1\n",
      "2\n",
      "1\n"
     ]
    }
   ],
   "source": [
    "# String\n",
    "\n",
    "class Solution(object):\n",
    "    def wordsTyping(self, sentence, rows, cols):\n",
    "        \"\"\"\n",
    "        :type sentence: List[str]\n",
    "        :type rows: int\n",
    "        :type cols: int\n",
    "        :rtype: int\n",
    "        \"\"\"\n",
    "        s = ' '.join(sentence) + ' '\n",
    "        start = 0\n",
    "        for i in range(rows):\n",
    "            start += cols\n",
    "            \n",
    "            # find out until where we can still fit in the string\n",
    "            while s[start % len(s)] != ' ':\n",
    "                start -= 1\n",
    "                \n",
    "            # start from the next of the stop point for next row.\n",
    "            start += 1\n",
    "            \n",
    "        # start means how many characters we've fitted in.\n",
    "        return start / len(s)\n",
    "    \n",
    "s = Solution()\n",
    "\n",
    "# hello---\n",
    "# world---\n",
    "print s.wordsTyping(rows = 2, cols = 8, sentence = [\"hello\", \"world\"])\n",
    "\n",
    "# a-bcd- \n",
    "# e-a---\n",
    "# bcd-e-\n",
    "print s.wordsTyping(rows = 3, cols = 6, sentence = [\"a\", \"bcd\", \"e\"])\n",
    "\n",
    "# I-had\n",
    "# apple\n",
    "# pie-I\n",
    "# had--\n",
    "print s.wordsTyping(rows = 4, cols = 5, sentence = [\"I\", \"had\", \"apple\", \"pie\"])\n"
   ]
  },
  {
   "cell_type": "code",
   "execution_count": null,
   "metadata": {
    "collapsed": true
   },
   "outputs": [],
   "source": []
  }
 ],
 "metadata": {
  "kernelspec": {
   "display_name": "Python 2",
   "language": "python",
   "name": "python2"
  },
  "language_info": {
   "codemirror_mode": {
    "name": "ipython",
    "version": 2
   },
   "file_extension": ".py",
   "mimetype": "text/x-python",
   "name": "python",
   "nbconvert_exporter": "python",
   "pygments_lexer": "ipython2",
   "version": "2.7.10"
  }
 },
 "nbformat": 4,
 "nbformat_minor": 2
}
