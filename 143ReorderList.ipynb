{
 "cells": [
  {
   "cell_type": "code",
   "execution_count": null,
   "metadata": {
    "collapsed": true
   },
   "outputs": [],
   "source": [
    "# linked-list\n",
    "\n",
    "# Definition for singly-linked list.\n",
    "# class ListNode(object):\n",
    "#     def __init__(self, x):\n",
    "#         self.val = x\n",
    "#         self.next = None\n",
    "\n",
    "# Given 1->2->3->4, reorder it to 1->4->2->3.\n",
    "# Given 1->2->3->4->5, reorder it to 1->5->2->4->3.\n",
    "class Solution(object):\n",
    "    def reorderList(self, head):\n",
    "        \"\"\"\n",
    "        :type head: ListNode\n",
    "        :rtype: void Do not return anything, modify head in-place instead.\n",
    "        \"\"\"\n",
    "        # split into two lists\n",
    "        if not head or not head.next:\n",
    "            return\n",
    "        \n",
    "        # three steps to solve\n",
    "        a, b = self.splitList(head)\n",
    "        b = self.reverseList(b)\n",
    "        head = self.mergeList(a, b)\n",
    "    \n",
    "    def splitList(self, head):\n",
    "        fast, slow = head, head\n",
    "        while fast and fast.next:\n",
    "            slow = slow.next\n",
    "            fast = fast.next.next\n",
    "        \n",
    "        middle = slow.next\n",
    "        slow.next = None\n",
    "        \n",
    "        return head, middle\n",
    "        \n",
    "    def reverseList(self, head):\n",
    "        last = None\n",
    "        curr = head\n",
    "        while curr:\n",
    "            nextNode = curr.next\n",
    "            curr.next = last\n",
    "            last = curr\n",
    "            curr = nextNode\n",
    "        return last\n",
    "    \n",
    "    def mergeList(self, a, b):\n",
    "        cur = a\n",
    "        head = a\n",
    "        \n",
    "        a = a.next\n",
    "        while b:\n",
    "            cur.next = b\n",
    "            cur = cur.next\n",
    "            b = b.next\n",
    "            if a:\n",
    "                a, b = b, a\n",
    "        return head"
   ]
  }
 ],
 "metadata": {
  "kernelspec": {
   "display_name": "Python 2",
   "language": "python",
   "name": "python2"
  },
  "language_info": {
   "codemirror_mode": {
    "name": "ipython",
    "version": 2
   },
   "file_extension": ".py",
   "mimetype": "text/x-python",
   "name": "python",
   "nbconvert_exporter": "python",
   "pygments_lexer": "ipython2",
   "version": "2.7.10"
  }
 },
 "nbformat": 4,
 "nbformat_minor": 2
}
