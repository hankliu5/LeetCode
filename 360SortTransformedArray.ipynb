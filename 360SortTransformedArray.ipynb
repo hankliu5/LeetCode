{
 "cells": [
  {
   "cell_type": "code",
   "execution_count": 4,
   "metadata": {},
   "outputs": [
    {
     "name": "stdout",
     "output_type": "stream",
     "text": [
      "[3, 9, 15, 33]\n",
      "[-23, -5, 1, 7]\n"
     ]
    }
   ],
   "source": [
    "# Math\n",
    "class Solution(object):\n",
    "    def sortTransformedArray(self, nums, a, b, c):\n",
    "        \"\"\"\n",
    "        :type nums: List[int] sorted array\n",
    "        :type a: int\n",
    "        :type b: int\n",
    "        :type c: int\n",
    "        :rtype: List[int] return a sorted array after f(x) = ax^2 + bx + c\n",
    "        \"\"\"\n",
    "        nums = map(lambda x: a*x*x + b*x + c, nums)\n",
    "        ret = [0] * len(nums)\n",
    "        p1, p2 = 0, len(nums) - 1\n",
    "        \n",
    "        # if a < 0, two-sides are minimum, so we start to find the \n",
    "        # minimum and insert to return array from the left.\n",
    "        # a num is larger when being multiplied by -1, that means the num is smaller\n",
    "\n",
    "        # elif a > 0, center is minimum, so we start to find the maximum \n",
    "        # and insert return array from the right \n",
    "        # a num is larger when being multiplied by 1, that means the num is larger\n",
    "\n",
    "        # elif a == 0, maximum could be one of two sides\n",
    "        i, d = (p1, 1) if a < 0 else (p2, -1)\n",
    "        while p1 <= p2:\n",
    "            if nums[p1] * -d > nums[p2] * -d:\n",
    "                ret[i] = nums[p1]\n",
    "                p1 += 1\n",
    "            else:\n",
    "                ret[i] = nums[p2]\n",
    "                p2 -= 1\n",
    "            i += d\n",
    "        return ret\n",
    "\n",
    "s = Solution()\n",
    "nums_array = [[-4,-2,2,4], [-4,-2,2,4]]\n",
    "args = [(1,3,5), (-1,3,5)]\n",
    "for nums, arg in zip(nums_array, args):\n",
    "    print s.sortTransformedArray(nums, arg[0], arg[1], arg[2])"
   ]
  },
  {
   "cell_type": "code",
   "execution_count": null,
   "metadata": {
    "collapsed": true
   },
   "outputs": [],
   "source": []
  }
 ],
 "metadata": {
  "kernelspec": {
   "display_name": "Python 2",
   "language": "python",
   "name": "python2"
  },
  "language_info": {
   "codemirror_mode": {
    "name": "ipython",
    "version": 2
   },
   "file_extension": ".py",
   "mimetype": "text/x-python",
   "name": "python",
   "nbconvert_exporter": "python",
   "pygments_lexer": "ipython2",
   "version": "2.7.10"
  }
 },
 "nbformat": 4,
 "nbformat_minor": 2
}
