{
 "cells": [
  {
   "cell_type": "code",
   "execution_count": null,
   "metadata": {
    "collapsed": true
   },
   "outputs": [],
   "source": [
    "import collections\n",
    "\n",
    "class Solution(object):\n",
    "    def subarraySum(self, nums, k):\n",
    "        \"\"\"\n",
    "        :type nums: List[int]\n",
    "        :type k: int\n",
    "        :rtype: int\n",
    "        \"\"\"\n",
    "        # at time t, A[0] + A[1] + ... + A[t-1] = W, and \n",
    "        # there are count[V] indices j with j < t-1 and A[0] + A[1] + ... + A[j] = V. \n",
    "        # Thus, there are count[V] subarrays W - V = A[j+1] + A[j+2] + ... + A[t-1] = K.\n",
    "        count = collections.Counter()\n",
    "        count[0] = 1\n",
    "        ans = sub = 0\n",
    "        for x in nums:\n",
    "            sub += x\n",
    "            ans += count[sub-k]\n",
    "            count[sub] += 1\n",
    "        return ans"
   ]
  }
 ],
 "metadata": {
  "kernelspec": {
   "display_name": "Python 2",
   "language": "python",
   "name": "python2"
  },
  "language_info": {
   "codemirror_mode": {
    "name": "ipython",
    "version": 2
   },
   "file_extension": ".py",
   "mimetype": "text/x-python",
   "name": "python",
   "nbconvert_exporter": "python",
   "pygments_lexer": "ipython2",
   "version": "2.7.10"
  }
 },
 "nbformat": 4,
 "nbformat_minor": 2
}
