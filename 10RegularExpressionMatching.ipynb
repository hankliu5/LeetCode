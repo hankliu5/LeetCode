{
 "cells": [
  {
   "cell_type": "code",
   "execution_count": null,
   "metadata": {
    "collapsed": true
   },
   "outputs": [],
   "source": [
    "# Dynamic Programming, Regular Expression\n",
    "\n",
    "# 1. If p.charAt(j) == s.charAt(i) :  dp[i][j] = dp[i-1][j-1];\n",
    "# 2. If p.charAt(j) == '.' : dp[i][j] = dp[i-1][j-1];\n",
    "# 3. If p.charAt(j) == '*': \n",
    "#     here are two sub conditions:\n",
    "#         1. if p.charAt(j-1) != s.charAt(i) : dp[i][j] = dp[i][j-2]  //in this case, a* only counts as empty\n",
    "#         2. if p.charAt(i-1) == s.charAt(i) or p.charAt(i-1) == '.':\n",
    "#                dp[i][j] = dp[i-1][j]    //in this case, a* counts as multiple a \n",
    "#                    or dp[i][j] = dp[i][j-1]   // in this case, a* counts as single a\n",
    "#                    or dp[i][j] = dp[i][j-2]   // in this case, a* counts as empty\n",
    "\n",
    "class Solution(object):\n",
    "    def isMatch(self, s, p):\n",
    "        \"\"\"\n",
    "        :type s: str\n",
    "        :type p: str\n",
    "        :rtype: bool\n",
    "        \"\"\"\n",
    "        if s is None or p is None:\n",
    "            return False\n",
    "        \n",
    "        len_s = len(s)\n",
    "        len_p = len(p)\n",
    "        \n",
    "        # Solution space, stores the status of current pointers\n",
    "        dp = [[False for _ in range(len_p+1)] for _ in range(len_s+1)]\n",
    "        \n",
    "        # base case and corner case.\n",
    "        dp[0][0] = True\n",
    "        for i in range(len_p):\n",
    "            if p[i] == '*' and dp[0][i-1]:\n",
    "                dp[0][i+1] = True\n",
    "        \n",
    "        # i stands current pointer of s\n",
    "        # j stands current pointer of p\n",
    "        for i in range(len_s):\n",
    "            for j in range(len_p):\n",
    "                if p[j] == '.':\n",
    "                    dp[i+1][j+1] = dp[i][j]\n",
    "                if p[j] == s[i]:\n",
    "                    dp[i+1][j+1] = dp[i][j]\n",
    "                if p[j] == '*':\n",
    "                    # a* counts as empty\n",
    "                    if p[j-1] != s[i] and p[j-1] != '.':\n",
    "                        dp[i+1][j+1] = dp[i+1][j-1]\n",
    "                    \n",
    "                    # if p[j-1] == s[i] or p[j-1] == '.'\n",
    "                    else:\n",
    "                        # dp[i][j+1] is a* counts as multiple a\n",
    "                        # dp[i+1][j] is a* counts as single a\n",
    "                        # dp[i+1][j-1] is a* counts as empty\n",
    "                        dp[i+1][j+1] = dp[i+1][j] or dp[i+1][j-1] or dp[i][j+1]\n",
    "        \n",
    "        return dp[len_s][len_p]"
   ]
  }
 ],
 "metadata": {
  "kernelspec": {
   "display_name": "Python 2",
   "language": "python",
   "name": "python2"
  },
  "language_info": {
   "codemirror_mode": {
    "name": "ipython",
    "version": 2
   },
   "file_extension": ".py",
   "mimetype": "text/x-python",
   "name": "python",
   "nbconvert_exporter": "python",
   "pygments_lexer": "ipython2",
   "version": "2.7.10"
  }
 },
 "nbformat": 4,
 "nbformat_minor": 2
}
