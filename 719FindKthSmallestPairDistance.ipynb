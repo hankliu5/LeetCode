{
 "cells": [
  {
   "cell_type": "code",
   "execution_count": 1,
   "metadata": {},
   "outputs": [
    {
     "data": {
      "text/plain": [
       "True"
      ]
     },
     "execution_count": 1,
     "metadata": {},
     "output_type": "execute_result"
    }
   ],
   "source": [
    "# Heap, Binary Search\n",
    "# Find the k-th smallest element => Heapsort\n",
    "# Find the correct place in a sorted array to insert => Binary Search.\n",
    "\n",
    "import bisect\n",
    "class Solution(object):\n",
    "    def smallestDistancePair(self, a, k):\n",
    "        \"\"\"\n",
    "        :type nums: List[int]\n",
    "        :type k: int\n",
    "        :rtype: int\n",
    "        \"\"\"\n",
    "        a.sort()\n",
    "        \n",
    "        # find the closest pair\n",
    "        low = min([abs(a[i] - a[i-1]) for i in range(len(a) - 1)])\n",
    "        \n",
    "        # get the fartest pair\n",
    "        high = abs(a[0] - a[-1])\n",
    "        \n",
    "        while low < high:\n",
    "            # always pick the left side\n",
    "            mid = low + (high - low) / 2\n",
    "            if self.countPairs(a, mid) < k:\n",
    "                low = mid + 1\n",
    "            else:\n",
    "                high = mid\n",
    "        return low\n",
    "    \n",
    "    def countPairs(self, a, val):\n",
    "        ans = 0\n",
    "        for i in range(len(a)):\n",
    "            # bisect_right(a, x, lo=0, hi=len(a))\n",
    "            # locate the right insertion point for x in a to maintain the sorted order.\n",
    "            # so a[i] + val means we want to find the insertion point that at least has distance from a[i]\n",
    "            # and the start point is from index i.\n",
    "            insertion_point = bisect.bisect_right(a, a[i] + val, lo = i)\n",
    "            \n",
    "            # once we have insertion point, the answer is index of insertion point - current index - the point itself\n",
    "            # to get the element between the insertion point and the current element, which are pairs within the\n",
    "            # distance.\n",
    "            ans += insertion_point - i - 1\n",
    "        return ans\n",
    "\n",
    "\n",
    "s = Solution()\n",
    "s.smallestDistancePair([1,3,1], 1) == 0"
   ]
  },
  {
   "cell_type": "code",
   "execution_count": null,
   "metadata": {
    "collapsed": true
   },
   "outputs": [],
   "source": []
  }
 ],
 "metadata": {
  "kernelspec": {
   "display_name": "Python 2",
   "language": "python",
   "name": "python2"
  },
  "language_info": {
   "codemirror_mode": {
    "name": "ipython",
    "version": 2
   },
   "file_extension": ".py",
   "mimetype": "text/x-python",
   "name": "python",
   "nbconvert_exporter": "python",
   "pygments_lexer": "ipython2",
   "version": "2.7.10"
  }
 },
 "nbformat": 4,
 "nbformat_minor": 2
}
