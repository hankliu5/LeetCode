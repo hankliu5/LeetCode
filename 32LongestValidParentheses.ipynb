{
 "cells": [
  {
   "cell_type": "code",
   "execution_count": null,
   "metadata": {
    "collapsed": true
   },
   "outputs": [],
   "source": [
    "# Stack, Parentheses\n",
    "\n",
    "class Solution(object):\n",
    "    def longestValidParentheses(self, s):\n",
    "        \"\"\"\n",
    "        :type s: str\n",
    "        :rtype: int\n",
    "        \"\"\"\n",
    "        stack = []\n",
    "        max_length = 0\n",
    "        \n",
    "        # use stack to store the location of each parenthese.\n",
    "        for i in range(len(s)):\n",
    "            if s[i] == '(':\n",
    "                stack.append(i)\n",
    "            else:\n",
    "                if stack and s[stack[-1]] == '(':\n",
    "                    stack.pop()\n",
    "                    last_position = -1\n",
    "                    if stack:\n",
    "                        last_position = stack[-1]\n",
    "                    curr_max = i - last_position\n",
    "                    max_length = max(max_length, curr_max)\n",
    "                else:\n",
    "                    stack.append(i)\n",
    "        return max_length\n",
    "        "
   ]
  }
 ],
 "metadata": {
  "kernelspec": {
   "display_name": "Python 2",
   "language": "python",
   "name": "python2"
  },
  "language_info": {
   "codemirror_mode": {
    "name": "ipython",
    "version": 2
   },
   "file_extension": ".py",
   "mimetype": "text/x-python",
   "name": "python",
   "nbconvert_exporter": "python",
   "pygments_lexer": "ipython2",
   "version": "2.7.10"
  }
 },
 "nbformat": 4,
 "nbformat_minor": 2
}
