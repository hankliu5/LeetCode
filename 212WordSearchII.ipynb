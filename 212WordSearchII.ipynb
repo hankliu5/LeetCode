{
 "cells": [
  {
   "cell_type": "code",
   "execution_count": 9,
   "metadata": {},
   "outputs": [
    {
     "name": "stdout",
     "output_type": "stream",
     "text": [
      "{'p': {'e': {'a': {'#': '#'}}}, 'r': {'a': {'i': {'n': {'#': '#'}}}}, 'e': {'a': {'t': {'#': '#'}}}, 'o': {'a': {'t': {'h': {'#': '#'}, '#': '#'}}}}\n",
      "['oat', 'oath', 'eat']\n"
     ]
    }
   ],
   "source": [
    "class Solution(object):\n",
    "    def findWords(self, board, words):\n",
    "        \"\"\"\n",
    "        :type board: List[List[str]]\n",
    "        :type words: List[str]\n",
    "        :rtype: List[str]\n",
    "        \"\"\"\n",
    "        trie = {}\n",
    "        for w in words:\n",
    "            t = trie\n",
    "            for c in w:\n",
    "                if c not in t:\n",
    "                    t[c] = {}\n",
    "                t = t[c]\n",
    "            # if it's the end of the word, put a '#' here.\n",
    "            t['#'] = '#'\n",
    "        print trie\n",
    "        self.res = set()\n",
    "        \n",
    "        # to record whether the element is used or not.\n",
    "        self.used = [[False] * len(board[0]) for _ in range(len(board))]\n",
    "        for i in range(len(board)):\n",
    "            for j in range(len(board[0])):\n",
    "                self.find(board, i, j, trie, '')\n",
    "        return list(self.res)\n",
    "    \n",
    "    def find(self, board, i, j, trie, pre):\n",
    "        if '#' in trie:\n",
    "            self.res.add(pre)\n",
    "        if i < 0 or i >= len(board) or j < 0 or j >= len(board[0]):\n",
    "            return\n",
    "        if not self.used[i][j] and board[i][j] in trie:\n",
    "            self.used[i][j] = True\n",
    "            self.find(board, i+1, j, trie[board[i][j]], pre+board[i][j])\n",
    "            self.find(board, i-1, j, trie[board[i][j]], pre+board[i][j])\n",
    "            self.find(board, i, j+1, trie[board[i][j]], pre+board[i][j])\n",
    "            self.find(board, i, j-1, trie[board[i][j]], pre+board[i][j])\n",
    "            self.used[i][j] = False\n",
    "                    \n",
    "s = Solution()\n",
    "board = [[\"o\",\"a\",\"a\",\"n\"],[\"e\",\"t\",\"a\",\"e\"],[\"i\",\"h\",\"k\",\"r\"],[\"i\",\"f\",\"l\",\"v\"]]\n",
    "words = [\"oath\",\"pea\",\"eat\",\"rain\", \"oat\"]\n",
    "\n",
    "print s.findWords(board, words)"
   ]
  }
 ],
 "metadata": {
  "kernelspec": {
   "display_name": "Python 2",
   "language": "python",
   "name": "python2"
  },
  "language_info": {
   "codemirror_mode": {
    "name": "ipython",
    "version": 2
   },
   "file_extension": ".py",
   "mimetype": "text/x-python",
   "name": "python",
   "nbconvert_exporter": "python",
   "pygments_lexer": "ipython2",
   "version": "2.7.10"
  }
 },
 "nbformat": 4,
 "nbformat_minor": 2
}
