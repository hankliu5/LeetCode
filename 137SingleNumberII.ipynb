{
 "cells": [
  {
   "cell_type": "code",
   "execution_count": 2,
   "metadata": {},
   "outputs": [
    {
     "name": "stdout",
     "output_type": "stream",
     "text": [
      "99\n",
      "99\n"
     ]
    }
   ],
   "source": [
    "# Bit opearation, Set, Math\n",
    "\n",
    "# ++=======+============+=====+============+========++\n",
    "# ||       |    count   | num |   count'   |        ||\n",
    "# || count |    (bin)   |     |   (bin)    | count' ||\n",
    "# || (dec) ++=====+=====+=====+=====+=====++ (dec)  ||\n",
    "# ||       || b1  | b0  | num | b1' | b0' ||        ||\n",
    "# ++-------++-----+-----+-----+-----+-----++--------++\n",
    "# ||   0   ||  0  |  0  |  0  |  0  |  0  ||   0    ||\n",
    "# ++-------++-----+-----+-----+-----+-----++--------++\n",
    "# ||   1   ||  0  |  1  |  0  |  0  |  1  ||   1    ||\n",
    "# ++-------++-----+-----+-----+-----+-----++--------++\n",
    "# ||   2   ||  1  |  0  |  0  |  1  |  0  ||   2    ||\n",
    "# ++-------++-----+-----+-----+-----+-----++--------++\n",
    "# ||   0   ||  0  |  0  |  1  |  0  |  1  ||   1    ||\n",
    "# ++-------++-----+-----+-----+-----+-----++--------++\n",
    "# ||   1   ||  0  |  1  |  1  |  1  |  0  ||   2    ||\n",
    "# ++-------++-----+-----+-----+-----+-----++--------++\n",
    "# ||   2   ||  1  |  0  |  1  |  0  |  0  ||   0    ||\n",
    "# ++=======++===========+=====+===========++========++\n",
    "\n",
    "# b0' = f(b1, b0, num)\n",
    "# b1' = g(b1, b0, num)\n",
    "\n",
    "# From observations, we can get the formula\n",
    "# b0' = (b0 ^ num) & (~b1)\n",
    "# b1' = (b1 ^ num) & (~b0')\n",
    "\n",
    "class Solution:\n",
    "    # @param {integer[]} nums\n",
    "    # @return {integer}\n",
    "    def singleNumber(self, nums):\n",
    "        b1, b0 = 0, 0\n",
    "        for num in nums:\n",
    "            b0 = (b0 ^ num) & (~b1)\n",
    "            b1 = (b1 ^ num) & (~b0)\n",
    "        return b0\n",
    "        \n",
    "class Solution2:\n",
    "    # @param {integer[]} nums\n",
    "    # @return {integer}\n",
    "    def singleNumber(self, nums):\n",
    "        s = set(nums)\n",
    "        return (sum(s) * 3 - sum(nums)) / 2\n",
    "\n",
    "s = Solution()\n",
    "print s.singleNumber([0,1,0,1,0,1,99])\n",
    "\n",
    "s = Solution2()\n",
    "print s.singleNumber([0,1,0,1,0,1,99])\n"
   ]
  },
  {
   "cell_type": "code",
   "execution_count": null,
   "metadata": {
    "collapsed": true
   },
   "outputs": [],
   "source": []
  }
 ],
 "metadata": {
  "kernelspec": {
   "display_name": "Python 2",
   "language": "python",
   "name": "python2"
  },
  "language_info": {
   "codemirror_mode": {
    "name": "ipython",
    "version": 2
   },
   "file_extension": ".py",
   "mimetype": "text/x-python",
   "name": "python",
   "nbconvert_exporter": "python",
   "pygments_lexer": "ipython2",
   "version": "2.7.10"
  }
 },
 "nbformat": 4,
 "nbformat_minor": 2
}
