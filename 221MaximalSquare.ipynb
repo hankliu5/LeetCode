{
 "cells": [
  {
   "cell_type": "code",
   "execution_count": 2,
   "metadata": {},
   "outputs": [
    {
     "data": {
      "text/plain": [
       "4"
      ]
     },
     "execution_count": 2,
     "metadata": {},
     "output_type": "execute_result"
    }
   ],
   "source": [
    "# Dynamic Programming\n",
    "\n",
    "class Solution(object):\n",
    "    # space O(n^2)\n",
    "    def maximalSquare(self, matrix):\n",
    "        \"\"\"\n",
    "        :type matrix: List[List[str]]\n",
    "        :rtype: int\n",
    "        \"\"\"\n",
    "        if not matrix:\n",
    "            return 0\n",
    "        m = len(matrix)\n",
    "        n = len(matrix[0])\n",
    "        result = 0\n",
    "        dp = [[0 for _ in range(n + 1)] for _ in range(m + 1)]\n",
    "        for i in range(1, m+1):\n",
    "            for j in range(1, n+1):\n",
    "                if matrix[i-1][j-1] == '1':\n",
    "                    # only the left, up-left, up's minimum can be used for edge.\n",
    "                    dp[i][j] = min(dp[i][j-1], dp[i-1][j-1], dp[i-1][j]) + 1\n",
    "                    result = max(dp[i][j], result)\n",
    "                    \n",
    "        return result * result\n",
    "    \n",
    "    # space O(n)\n",
    "    # From previous solution, we found that we only need previous row and current row\n",
    "    def maximalSquare2(self, matrix):\n",
    "        \"\"\"\n",
    "        :type matrix: List[List[str]]\n",
    "        :rtype: int\n",
    "        \"\"\"\n",
    "        if not matrix:\n",
    "            return 0\n",
    "        m = len(matrix)\n",
    "        n = len(matrix[0])\n",
    "        result = 0\n",
    "        pre = [0 for _ in range(m)]\n",
    "        cur = [0 for _ in range(m)]\n",
    "        \n",
    "        # base case\n",
    "        for i in range(m):\n",
    "            pre[i] = int(matrix[i][0])\n",
    "            result = max(result, pre[i])\n",
    "        \n",
    "        for j in range(1, n):\n",
    "            cur[0] = int(matrix[0][j])\n",
    "            result = max(result, cur[0])\n",
    "            for i in range(1, m):\n",
    "                if matrix[i][j] == '1':\n",
    "                    cur[i] = min(cur[i-1], pre[i-1], pre[i]) + 1\n",
    "                    result = max(result, cur[i])\n",
    "            pre = cur\n",
    "            cur = [0 for _ in range(m)]\n",
    "        \n",
    "        return result * result\n",
    "    \n",
    "    def maximalSquare3(self, matrix):\n",
    "        \"\"\"\n",
    "        :type matrix: List[List[str]]\n",
    "        :rtype: int\n",
    "        \"\"\"\n",
    "        if not matrix:\n",
    "            return 0\n",
    "        m = len(matrix)\n",
    "        n = len(matrix[0])\n",
    "        result = 0\n",
    "        # same row but previous result.\n",
    "        pre = 0\n",
    "        # previous row.\n",
    "        dp = [0 for _ in range(n + 1)]\n",
    "        for i in range(m):\n",
    "            for j in range(1, n + 1):\n",
    "                temp = dp[j]\n",
    "                if matrix[i][j-1] == '1':\n",
    "                    dp[j] = min(dp[j], dp[j-1], pre) + 1\n",
    "                    result = max(result, dp[j])\n",
    "                else:\n",
    "                    dp[j] = 0\n",
    "                pre = temp\n",
    "        return result * result\n",
    "    \n",
    "    def print_matrix(self, matrix):\n",
    "        for row in matrix:\n",
    "            print row\n",
    "        print\n",
    "s = Solution()\n",
    "s.maximalSquare3([[\"1\",\"0\",\"1\",\"0\",\"0\"],[\"1\",\"0\",\"1\",\"1\",\"1\"],[\"1\",\"1\",\"1\",\"1\",\"1\"],[\"1\",\"0\",\"0\",\"1\",\"0\"]])"
   ]
  },
  {
   "cell_type": "code",
   "execution_count": null,
   "metadata": {
    "collapsed": true
   },
   "outputs": [],
   "source": []
  }
 ],
 "metadata": {
  "kernelspec": {
   "display_name": "Python 2",
   "language": "python",
   "name": "python2"
  },
  "language_info": {
   "codemirror_mode": {
    "name": "ipython",
    "version": 2
   },
   "file_extension": ".py",
   "mimetype": "text/x-python",
   "name": "python",
   "nbconvert_exporter": "python",
   "pygments_lexer": "ipython2",
   "version": "2.7.10"
  }
 },
 "nbformat": 4,
 "nbformat_minor": 2
}
