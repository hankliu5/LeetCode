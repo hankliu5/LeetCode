{
 "cells": [
  {
   "cell_type": "code",
   "execution_count": 1,
   "metadata": {},
   "outputs": [
    {
     "data": {
      "text/plain": [
       "20"
      ]
     },
     "execution_count": 1,
     "metadata": {},
     "output_type": "execute_result"
    }
   ],
   "source": [
    "# Dynamic Programming\n",
    "\n",
    "# Input: coins = [1, 2, 5], amount = 11\n",
    "# Output: 3 \n",
    "# Explanation: 11 = 5 + 5 + 1\n",
    "\n",
    "# Input: coins = [2], amount = 3\n",
    "# Output: -1\n",
    "class Solution(object):\n",
    "    def coinChange(self, coins, amount):\n",
    "        \"\"\"\n",
    "        :type coins: List[int]\n",
    "        :type amount: int\n",
    "        :rtype: int\n",
    "        \"\"\"\n",
    "        # maximum means impossible or index out of bound here.\n",
    "        maximum = float('inf')\n",
    "        dp = [0] + [maximum] * amount\n",
    "        \n",
    "        for i in range(1, amount+1):\n",
    "            # find out the minimum among the previous steps and increment by one.\n",
    "            dp[i] = min([dp[i - c] if i - c >= 0 else maximum for c in coins]) + 1\n",
    "        \n",
    "        # if dp[amount] == maximum is True, that means there is no way to break the changes.\n",
    "        return (dp[amount], -1)[dp[amount] == maximum]\n",
    "        \n",
    "s = Solution()\n",
    "s.coinChange([1, 2, 5], 100)"
   ]
  },
  {
   "cell_type": "code",
   "execution_count": null,
   "metadata": {
    "collapsed": true
   },
   "outputs": [],
   "source": []
  }
 ],
 "metadata": {
  "kernelspec": {
   "display_name": "Python 2",
   "language": "python",
   "name": "python2"
  },
  "language_info": {
   "codemirror_mode": {
    "name": "ipython",
    "version": 2
   },
   "file_extension": ".py",
   "mimetype": "text/x-python",
   "name": "python",
   "nbconvert_exporter": "python",
   "pygments_lexer": "ipython2",
   "version": "2.7.10"
  }
 },
 "nbformat": 4,
 "nbformat_minor": 2
}
