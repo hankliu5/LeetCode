{
 "cells": [
  {
   "cell_type": "code",
   "execution_count": 1,
   "metadata": {},
   "outputs": [
    {
     "data": {
      "text/plain": [
       "True"
      ]
     },
     "execution_count": 1,
     "metadata": {},
     "output_type": "execute_result"
    }
   ],
   "source": [
    "# Matrix\n",
    "\n",
    "class Solution(object):\n",
    "    # Time complexity O(m+n)\n",
    "    # rows and cols are in ascending order.\n",
    "    def searchMatrix(self, matrix, target):\n",
    "        \"\"\"\n",
    "        :type matrix: List[List[int]]\n",
    "        :type target: int\n",
    "        :rtype: bool\n",
    "        \"\"\"\n",
    "        # null check is important\n",
    "        if matrix is None or len(matrix) == 0 or len(matrix[0]) == 0:\n",
    "            return False\n",
    "        \n",
    "        # start from the max in col side but min in row side.\n",
    "        col = len(matrix[0]) - 1\n",
    "        row = 0\n",
    "        while col >= 0 and row <= len(matrix) - 1:\n",
    "            if (target == matrix[row][col]):\n",
    "                return True\n",
    "            # if target is smaller than the element, go left (smaller element)\n",
    "            elif target < matrix[row][col]:\n",
    "                col -= 1\n",
    "            # if target is larger than the element, go down (larger element)\n",
    "            elif target > matrix[row][col]:\n",
    "                row += 1\n",
    "        \n",
    "        return False\n",
    "        \n",
    "s = Solution()\n",
    "s.searchMatrix([\n",
    "    [1,4,7,11,15],\n",
    "    [2,5,8,12,19],\n",
    "    [3,6,9,16,22],\n",
    "    [10,13,14,17,24],\n",
    "    [18,21,23,26,30]\n",
    "],5)"
   ]
  },
  {
   "cell_type": "code",
   "execution_count": null,
   "metadata": {
    "collapsed": true
   },
   "outputs": [],
   "source": []
  }
 ],
 "metadata": {
  "kernelspec": {
   "display_name": "Python 2",
   "language": "python",
   "name": "python2"
  },
  "language_info": {
   "codemirror_mode": {
    "name": "ipython",
    "version": 2
   },
   "file_extension": ".py",
   "mimetype": "text/x-python",
   "name": "python",
   "nbconvert_exporter": "python",
   "pygments_lexer": "ipython2",
   "version": "2.7.10"
  }
 },
 "nbformat": 4,
 "nbformat_minor": 2
}
