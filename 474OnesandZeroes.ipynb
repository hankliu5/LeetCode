{
 "cells": [
  {
   "cell_type": "code",
   "execution_count": 1,
   "metadata": {},
   "outputs": [
    {
     "data": {
      "text/plain": [
       "4"
      ]
     },
     "execution_count": 1,
     "metadata": {},
     "output_type": "execute_result"
    }
   ],
   "source": [
    "# Dynamic Programming, Knapsack Problem\n",
    "\n",
    "# Time complexity: O(mnk+kL), k is the number of the string, L is the length of strings.\n",
    "# Space complexity: O(mn)\n",
    "class Solution(object):\n",
    "    def findMaxForm(self, strs, m, n):\n",
    "        \"\"\"\n",
    "        :type strs: List[str]\n",
    "        :type m: int\n",
    "        :type n: int\n",
    "        :rtype: int\n",
    "        \"\"\"\n",
    "        \n",
    "        # we need to store the information for each state of zeros and ones left\n",
    "        dp = [[0] * (n+1) for _ in range(m+1)]\n",
    "        \n",
    "        # counts the zeros and ones contained in a string\n",
    "        def count(s):\n",
    "            counter = {'0': 0, '1': 0}\n",
    "            for c in s:\n",
    "                counter[c] += 1\n",
    "            return counter['0'], counter['1']\n",
    "        \n",
    "        # runs the DP for each state.\n",
    "        for zero, one in [count(s) for s in strs]:\n",
    "            for left_zeros in range(m, -1, -1):\n",
    "                for left_ones in range(n, -1, -1):\n",
    "                    if left_zeros >= zero and left_ones >= one:\n",
    "                        # take this item or not.\n",
    "                        dp[left_zeros][left_ones] = max(1 + dp[left_zeros-zero][left_ones-one], dp[left_zeros][left_ones])\n",
    "                        \n",
    "        return dp[m][n]\n",
    "                \n",
    "\n",
    "s = Solution()\n",
    "s.findMaxForm([\"10\",\"0001\",\"111001\",\"1\",\"0\"], 5, 3)"
   ]
  },
  {
   "cell_type": "code",
   "execution_count": null,
   "metadata": {
    "collapsed": true
   },
   "outputs": [],
   "source": []
  }
 ],
 "metadata": {
  "kernelspec": {
   "display_name": "Python 2",
   "language": "python",
   "name": "python2"
  },
  "language_info": {
   "codemirror_mode": {
    "name": "ipython",
    "version": 2
   },
   "file_extension": ".py",
   "mimetype": "text/x-python",
   "name": "python",
   "nbconvert_exporter": "python",
   "pygments_lexer": "ipython2",
   "version": "2.7.10"
  }
 },
 "nbformat": 4,
 "nbformat_minor": 2
}
