{
 "cells": [
  {
   "cell_type": "code",
   "execution_count": 9,
   "metadata": {},
   "outputs": [
    {
     "name": "stdout",
     "output_type": "stream",
     "text": [
      "[[0, 0, 0, 0, 0, 0], [0, 0, 0, 0, 0, 0], [0, 0, 0, 0, 0, 0], [0, 0, 0, 0, 0, 40], [0, 0, 0, 0, 0, 0], [0, 0, 0, 0, 0, 0]]\n",
      "[[0, 0, 0, 0, 0, 0], [0, 0, 0, 0, 0, 0], [0, 0, 0, 0, 40, 0], [0, 0, 0, 0, 0, 40], [0, 0, 0, 0, 0, 0], [0, 0, 0, 0, 0, 0]]\n",
      "[[0, 0, 0, 0, 0, 0], [0, 0, 0, 0, 0, 0], [0, 0, 0, 0, 40, 48], [0, 0, 0, 0, 0, 40], [0, 0, 0, 0, 0, 0], [0, 0, 0, 0, 0, 0]]\n",
      "[[0, 0, 0, 0, 0, 0], [0, 0, 0, 15, 0, 0], [0, 0, 0, 0, 40, 48], [0, 0, 0, 0, 0, 40], [0, 0, 0, 0, 0, 0], [0, 0, 0, 0, 0, 0]]\n",
      "[[0, 0, 0, 0, 0, 0], [0, 0, 0, 15, 135, 0], [0, 0, 0, 0, 40, 48], [0, 0, 0, 0, 0, 40], [0, 0, 0, 0, 0, 0], [0, 0, 0, 0, 0, 0]]\n",
      "[[0, 0, 0, 0, 0, 0], [0, 0, 0, 15, 135, 159], [0, 0, 0, 0, 40, 48], [0, 0, 0, 0, 0, 40], [0, 0, 0, 0, 0, 0], [0, 0, 0, 0, 0, 0]]\n",
      "[[0, 0, 3, 0, 0, 0], [0, 0, 0, 15, 135, 159], [0, 0, 0, 0, 40, 48], [0, 0, 0, 0, 0, 40], [0, 0, 0, 0, 0, 0], [0, 0, 0, 0, 0, 0]]\n",
      "[[0, 0, 3, 30, 0, 0], [0, 0, 0, 15, 135, 159], [0, 0, 0, 0, 40, 48], [0, 0, 0, 0, 0, 40], [0, 0, 0, 0, 0, 0], [0, 0, 0, 0, 0, 0]]\n",
      "[[0, 0, 3, 30, 159, 0], [0, 0, 0, 15, 135, 159], [0, 0, 0, 0, 40, 48], [0, 0, 0, 0, 0, 40], [0, 0, 0, 0, 0, 0], [0, 0, 0, 0, 0, 0]]\n",
      "[[0, 0, 3, 30, 159, 167], [0, 0, 0, 15, 135, 159], [0, 0, 0, 0, 40, 48], [0, 0, 0, 0, 0, 40], [0, 0, 0, 0, 0, 0], [0, 0, 0, 0, 0, 0]]\n"
     ]
    },
    {
     "data": {
      "text/plain": [
       "167"
      ]
     },
     "execution_count": 9,
     "metadata": {},
     "output_type": "execute_result"
    }
   ],
   "source": [
    "# Dynamic Programming, Interval DP\n",
    "\n",
    "class Solution(object):\n",
    "    def maxCoins(self, nums):\n",
    "        \"\"\"\n",
    "        :type nums: List[int]\n",
    "        :rtype: int\n",
    "        \"\"\"\n",
    "        # completes the problem array\n",
    "        nums = [1] + nums + [1]\n",
    "        n = len(nums)\n",
    "        dp = [[0] * n for _ in range(n)]\n",
    "        \n",
    "        # calculate the max coins in [i, j]\n",
    "        def calculate(i, j):\n",
    "            # if already in memory or gap < 2\n",
    "            if dp[i][j] or j == i + 1:\n",
    "                return dp[i][j]\n",
    "            coins = 0\n",
    "            # the real problem space.\n",
    "            # if k is the last balloon to burst.\n",
    "            for k in range(i+1, j):\n",
    "                coins = max(coins, nums[i] * nums[k] * nums[j] + calculate(i, k) + calculate(k, j))\n",
    "            dp[i][j] = coins\n",
    "            print dp\n",
    "            return coins\n",
    "        return calculate(0, n-1)\n",
    "\n",
    "s = Solution()\n",
    "s.maxCoins([3,1,5,8])"
   ]
  },
  {
   "cell_type": "code",
   "execution_count": null,
   "metadata": {
    "collapsed": true
   },
   "outputs": [],
   "source": []
  }
 ],
 "metadata": {
  "kernelspec": {
   "display_name": "Python 2",
   "language": "python",
   "name": "python2"
  },
  "language_info": {
   "codemirror_mode": {
    "name": "ipython",
    "version": 2
   },
   "file_extension": ".py",
   "mimetype": "text/x-python",
   "name": "python",
   "nbconvert_exporter": "python",
   "pygments_lexer": "ipython2",
   "version": "2.7.10"
  }
 },
 "nbformat": 4,
 "nbformat_minor": 2
}
