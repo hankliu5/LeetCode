{
 "cells": [
  {
   "cell_type": "code",
   "execution_count": 6,
   "metadata": {},
   "outputs": [
    {
     "name": "stdout",
     "output_type": "stream",
     "text": [
      "[[1, 3], [2, 6], [8, 10], [15, 18]]\n",
      "[[1, 6], [8, 10], [15, 18]]\n",
      "\n",
      "[[1, 4], [4, 5]]\n",
      "[[1, 5]]\n"
     ]
    }
   ],
   "source": [
    "# Linear Search\n",
    "\n",
    "# Definition for an interval.\n",
    "class Interval(object):\n",
    "    def __init__(self, s=0, e=0):\n",
    "        self.start = s\n",
    "        self.end = e\n",
    "        \n",
    "    def __repr__(self):\n",
    "        return \"[{}, {}]\".format(self.start, self.end)\n",
    "\n",
    "class Solution(object):\n",
    "    def merge(self, intervals):\n",
    "        \"\"\"\n",
    "        :type intervals: List[Interval]\n",
    "        :rtype: List[Interval]\n",
    "        \"\"\"\n",
    "        if len(intervals) <= 1:\n",
    "            return intervals\n",
    "        \n",
    "        intervals.sort(key=lambda x: x.start)\n",
    "        ret = []\n",
    "        s, e = intervals[0].start, intervals[0].end\n",
    "        \n",
    "        for i in intervals[1:]:\n",
    "            # if the start of the current interval is larger than\n",
    "            # the end of the last interval of return array, we can\n",
    "            # append the last interval to the return array and \n",
    "            # assign a new start and end\n",
    "            if i.start > e:\n",
    "                ret.append(Interval(s, e))\n",
    "                s, e = i.start, i.end\n",
    "            \n",
    "            # else we compare the ends of current interval and the\n",
    "            # last assigned interval to get the maximum.\n",
    "            else:\n",
    "                e = max(e, i.end)\n",
    "        \n",
    "        # append the last interval.\n",
    "        ret.append(Interval(s, e))\n",
    "        return ret\n",
    "\n",
    "args = [[1,3],[2,6],[8,10],[15,18]]\n",
    "intervals = []\n",
    "for e in args:\n",
    "    intervals.append(Interval(e[0], e[1]))\n",
    "print intervals\n",
    "s = Solution()\n",
    "print s.merge(intervals)\n",
    "print\n",
    "\n",
    "args = [[1,4],[4,5]]\n",
    "intervals = []\n",
    "for e in args:\n",
    "    intervals.append(Interval(e[0], e[1]))\n",
    "print intervals\n",
    "print s.merge(intervals)\n"
   ]
  },
  {
   "cell_type": "code",
   "execution_count": null,
   "metadata": {
    "collapsed": true
   },
   "outputs": [],
   "source": []
  }
 ],
 "metadata": {
  "kernelspec": {
   "display_name": "Python 2",
   "language": "python",
   "name": "python2"
  },
  "language_info": {
   "codemirror_mode": {
    "name": "ipython",
    "version": 2
   },
   "file_extension": ".py",
   "mimetype": "text/x-python",
   "name": "python",
   "nbconvert_exporter": "python",
   "pygments_lexer": "ipython2",
   "version": "2.7.10"
  }
 },
 "nbformat": 4,
 "nbformat_minor": 2
}
