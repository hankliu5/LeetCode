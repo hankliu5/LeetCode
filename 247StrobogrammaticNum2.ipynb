{
 "cells": [
  {
   "cell_type": "code",
   "execution_count": 18,
   "metadata": {},
   "outputs": [
    {
     "data": {
      "text/plain": [
       "['0', '1', '8']"
      ]
     },
     "execution_count": 18,
     "metadata": {},
     "output_type": "execute_result"
    }
   ],
   "source": [
    "def findStrobogrammatic(n):\n",
    "    \"\"\"\n",
    "    :type n: int\n",
    "    :rtype: List[str]\n",
    "    \"\"\"\n",
    "    odd = ['0', '1', '8']\n",
    "    even = ['11', '69', '88', '96', '00']\n",
    "    if n == 1:\n",
    "        return odd\n",
    "    if n == 2:\n",
    "        return even[:-1]\n",
    "    if n % 2:\n",
    "        pre, mid = findStrobogrammatic(n - 1), odd\n",
    "    else:\n",
    "        pre, mid = findStrobogrammatic(n - 2), even\n",
    "    premid = (n - 1) / 2 # the middie index of the previous (n-1) strobogrammatic number\n",
    "    ret = [p[:premid] + c + p[premid:] for c in mid for p in pre]\n",
    "    return ret\n",
    "\n",
    "findStrobogrammatic(1)"
   ]
  },
  {
   "cell_type": "code",
   "execution_count": 15,
   "metadata": {},
   "outputs": [
    {
     "data": {
      "text/plain": [
       "['11', '69', '88', '96']"
      ]
     },
     "execution_count": 15,
     "metadata": {},
     "output_type": "execute_result"
    }
   ],
   "source": [
    "findStrobogrammatic(2)"
   ]
  },
  {
   "cell_type": "code",
   "execution_count": 19,
   "metadata": {},
   "outputs": [
    {
     "data": {
      "text/plain": [
       "['101',\n",
       " '609',\n",
       " '808',\n",
       " '906',\n",
       " '111',\n",
       " '619',\n",
       " '818',\n",
       " '916',\n",
       " '181',\n",
       " '689',\n",
       " '888',\n",
       " '986']"
      ]
     },
     "execution_count": 19,
     "metadata": {},
     "output_type": "execute_result"
    }
   ],
   "source": [
    "findStrobogrammatic(3)"
   ]
  },
  {
   "cell_type": "code",
   "execution_count": 20,
   "metadata": {},
   "outputs": [
    {
     "data": {
      "text/plain": [
       "['1111',\n",
       " '6119',\n",
       " '8118',\n",
       " '9116',\n",
       " '1691',\n",
       " '6699',\n",
       " '8698',\n",
       " '9696',\n",
       " '1881',\n",
       " '6889',\n",
       " '8888',\n",
       " '9886',\n",
       " '1961',\n",
       " '6969',\n",
       " '8968',\n",
       " '9966',\n",
       " '1001',\n",
       " '6009',\n",
       " '8008',\n",
       " '9006']"
      ]
     },
     "execution_count": 20,
     "metadata": {},
     "output_type": "execute_result"
    }
   ],
   "source": [
    "findStrobogrammatic(4)"
   ]
  },
  {
   "cell_type": "code",
   "execution_count": 21,
   "metadata": {},
   "outputs": [
    {
     "data": {
      "text/plain": [
       "['11011',\n",
       " '61019',\n",
       " '81018',\n",
       " '91016',\n",
       " '16091',\n",
       " '66099',\n",
       " '86098',\n",
       " '96096',\n",
       " '18081',\n",
       " '68089',\n",
       " '88088',\n",
       " '98086',\n",
       " '19061',\n",
       " '69069',\n",
       " '89068',\n",
       " '99066',\n",
       " '10001',\n",
       " '60009',\n",
       " '80008',\n",
       " '90006',\n",
       " '11111',\n",
       " '61119',\n",
       " '81118',\n",
       " '91116',\n",
       " '16191',\n",
       " '66199',\n",
       " '86198',\n",
       " '96196',\n",
       " '18181',\n",
       " '68189',\n",
       " '88188',\n",
       " '98186',\n",
       " '19161',\n",
       " '69169',\n",
       " '89168',\n",
       " '99166',\n",
       " '10101',\n",
       " '60109',\n",
       " '80108',\n",
       " '90106',\n",
       " '11811',\n",
       " '61819',\n",
       " '81818',\n",
       " '91816',\n",
       " '16891',\n",
       " '66899',\n",
       " '86898',\n",
       " '96896',\n",
       " '18881',\n",
       " '68889',\n",
       " '88888',\n",
       " '98886',\n",
       " '19861',\n",
       " '69869',\n",
       " '89868',\n",
       " '99866',\n",
       " '10801',\n",
       " '60809',\n",
       " '80808',\n",
       " '90806']"
      ]
     },
     "execution_count": 21,
     "metadata": {},
     "output_type": "execute_result"
    }
   ],
   "source": [
    "findStrobogrammatic(5)"
   ]
  },
  {
   "cell_type": "code",
   "execution_count": null,
   "metadata": {
    "collapsed": true
   },
   "outputs": [],
   "source": []
  }
 ],
 "metadata": {
  "kernelspec": {
   "display_name": "Python 2",
   "language": "python",
   "name": "python2"
  },
  "language_info": {
   "codemirror_mode": {
    "name": "ipython",
    "version": 2
   },
   "file_extension": ".py",
   "mimetype": "text/x-python",
   "name": "python",
   "nbconvert_exporter": "python",
   "pygments_lexer": "ipython2",
   "version": "2.7.10"
  }
 },
 "nbformat": 4,
 "nbformat_minor": 2
}
