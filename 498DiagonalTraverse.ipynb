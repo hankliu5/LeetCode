{
 "cells": [
  {
   "cell_type": "code",
   "execution_count": 4,
   "metadata": {},
   "outputs": [
    {
     "name": "stdout",
     "output_type": "stream",
     "text": [
      "defaultdict(<type 'list'>, {0: [1], 1: [2, 5], 2: [3, 6, 9], 3: [4, 7, 10, 13], 4: [8, 11, 14], 5: [12, 15], 6: [16]})\n"
     ]
    },
    {
     "data": {
      "text/plain": [
       "[1, 2, 5, 9, 6, 3, 4, 7, 10, 13, 14, 11, 8, 12, 15, 16]"
      ]
     },
     "execution_count": 4,
     "metadata": {},
     "output_type": "execute_result"
    }
   ],
   "source": [
    "# Index, Dictionary\n",
    "\n",
    "import collections\n",
    "class Solution(object):\n",
    "    def findDiagonalOrder(self, matrix):\n",
    "        \"\"\"\n",
    "        :type matrix: List[List[int]]\n",
    "        :rtype: List[int]\n",
    "        \"\"\"\n",
    "        ret = []\n",
    "        d = collections.defaultdict(list)\n",
    "        if not matrix:\n",
    "            return ret\n",
    "        \n",
    "        # group the elements on the same diagonal.\n",
    "        for i in range(len(matrix)):\n",
    "            for j in range(len(matrix[0])):\n",
    "                d[i+j].append(matrix[i][j])\n",
    "                \n",
    "        print d\n",
    "        # iterate and append the groups based on the number of row+col\n",
    "        for k, v in d.iteritems():\n",
    "            if k % 2 == 0: \n",
    "                d[k] = d[k][::-1]\n",
    "            ret += d[k]\n",
    "        return ret\n",
    "        \n",
    "s = Solution()\n",
    "s.findDiagonalOrder([[1,2,3,4],[5,6,7,8],[9,10,11,12],[13,14,15,16]])"
   ]
  },
  {
   "cell_type": "code",
   "execution_count": null,
   "metadata": {
    "collapsed": true
   },
   "outputs": [],
   "source": []
  }
 ],
 "metadata": {
  "kernelspec": {
   "display_name": "Python 2",
   "language": "python",
   "name": "python2"
  },
  "language_info": {
   "codemirror_mode": {
    "name": "ipython",
    "version": 2
   },
   "file_extension": ".py",
   "mimetype": "text/x-python",
   "name": "python",
   "nbconvert_exporter": "python",
   "pygments_lexer": "ipython2",
   "version": "2.7.10"
  }
 },
 "nbformat": 4,
 "nbformat_minor": 2
}
