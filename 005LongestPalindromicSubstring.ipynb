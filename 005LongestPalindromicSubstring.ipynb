{
 "cells": [
  {
   "cell_type": "code",
   "execution_count": 9,
   "metadata": {},
   "outputs": [
    {
     "name": "stdout",
     "output_type": "stream",
     "text": [
      "True\n",
      "True\n"
     ]
    }
   ],
   "source": [
    "# Two pointers\n",
    "\n",
    "class Solution(object):\n",
    "    # record the global longest substring's start point and its length\n",
    "    left = 0\n",
    "    maxLen = 0\n",
    "    def longestPalindrome(self, s):\n",
    "        \"\"\"\n",
    "        :type s: str\n",
    "        :rtype: str\n",
    "        \"\"\"\n",
    "        n = len(s)\n",
    "        if (n < 2):\n",
    "            return s\n",
    "        \n",
    "        for i in range(n-1):\n",
    "            # might start from the same point\n",
    "            self.extendPalindrome(s, i, i)\n",
    "            \n",
    "            # or start from the neighbors\n",
    "            self.extendPalindrome(s, i, i+1)\n",
    "        \n",
    "        return s[self.left:self.left+self.maxLen]\n",
    "    \n",
    "    def extendPalindrome(self, s, j, k):\n",
    "        while j >= 0 and k < len(s) and s[j] is s[k]:\n",
    "            j -= 1\n",
    "            k += 1\n",
    "        # the extreme case: the whole string is palindromic\n",
    "        # so j = -1 and k = len(s). The maxLen should be \n",
    "        # len(s) = len(s) - (-1) - 1, and left should be 0 = (-1) + 1\n",
    "        if self.maxLen < (k - j - 1):\n",
    "            self.left = j + 1\n",
    "            self.maxLen = k - j - 1\n",
    "\n",
    "s = Solution()\n",
    "print s.longestPalindrome(\"babad\") == \"bab\"\n",
    "s = Solution()\n",
    "print s.longestPalindrome(\"cbbd\") == \"bb\"\n"
   ]
  },
  {
   "cell_type": "code",
   "execution_count": null,
   "metadata": {
    "collapsed": true
   },
   "outputs": [],
   "source": []
  }
 ],
 "metadata": {
  "kernelspec": {
   "display_name": "Python 2",
   "language": "python",
   "name": "python2"
  },
  "language_info": {
   "codemirror_mode": {
    "name": "ipython",
    "version": 2
   },
   "file_extension": ".py",
   "mimetype": "text/x-python",
   "name": "python",
   "nbconvert_exporter": "python",
   "pygments_lexer": "ipython2",
   "version": "2.7.10"
  }
 },
 "nbformat": 4,
 "nbformat_minor": 2
}
