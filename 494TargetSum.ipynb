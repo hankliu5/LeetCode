{
 "cells": [
  {
   "cell_type": "code",
   "execution_count": 2,
   "metadata": {},
   "outputs": [
    {
     "name": "stdout",
     "output_type": "stream",
     "text": [
      "{1: 1, -1: 1}\n",
      "{0: 2, 2: 1, -2: 1}\n",
      "{1: 3, 3: 1, -3: 1, -1: 3}\n",
      "{0: 6, -4: 1, 2: 4, 4: 1, -2: 4}\n",
      "{1: 10, 3: 5, 5: 1, -5: 1, -3: 5, -1: 10}\n"
     ]
    },
    {
     "data": {
      "text/plain": [
       "5"
      ]
     },
     "execution_count": 2,
     "metadata": {},
     "output_type": "execute_result"
    }
   ],
   "source": [
    "# Dynamic Programming\n",
    "\n",
    "class Solution(object):\n",
    "    def findTargetSumWays(self, nums, S):\n",
    "        \"\"\"\n",
    "        :type nums: List[int]\n",
    "        :type S: int\n",
    "        :rtype: int\n",
    "        \"\"\"\n",
    "        # base case when we only have nums[0]\n",
    "        dic = {nums[0]: 1, -nums[0]: 1} if nums[0] != 0 else {0: 2}\n",
    "        print dic\n",
    "        for i in range(1, len(nums)):\n",
    "            tdic = {}\n",
    "            # iterate elements in the current dict\n",
    "            for d in dic:\n",
    "                # for current we either add this number or subtract this number.\n",
    "                # tdic.get(d + nums[i], 0) means if we can get how many ways to get d + nums[i]\n",
    "                # else is no way.\n",
    "                # dic[d] is previous way to get to d\n",
    "                tdic[d + nums[i]] = tdic.get(d + nums[i], 0) + dic[d]\n",
    "                tdic[d - nums[i]] = tdic.get(d - nums[i], 0) + dic[d]\n",
    "            dic = tdic\n",
    "            print dic\n",
    "        return dic.get(S, 0)\n",
    "\n",
    "s = Solution()\n",
    "s.findTargetSumWays([1,1,1,1,1], 3)"
   ]
  },
  {
   "cell_type": "code",
   "execution_count": null,
   "metadata": {
    "collapsed": true
   },
   "outputs": [],
   "source": []
  }
 ],
 "metadata": {
  "kernelspec": {
   "display_name": "Python 2",
   "language": "python",
   "name": "python2"
  },
  "language_info": {
   "codemirror_mode": {
    "name": "ipython",
    "version": 2
   },
   "file_extension": ".py",
   "mimetype": "text/x-python",
   "name": "python",
   "nbconvert_exporter": "python",
   "pygments_lexer": "ipython2",
   "version": "2.7.10"
  }
 },
 "nbformat": 4,
 "nbformat_minor": 2
}
