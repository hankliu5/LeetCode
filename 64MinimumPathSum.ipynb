{
 "cells": [
  {
   "cell_type": "code",
   "execution_count": null,
   "metadata": {
    "collapsed": true
   },
   "outputs": [],
   "source": [
    "# Dynamic Programming, 0-1 knapsack\n",
    "# Time complexity = O(mn), space complexity = O(mn)\n",
    "class Solution(object):\n",
    "    def minPathSum(self, grid):\n",
    "        \"\"\"\n",
    "        :type grid: List[List[int]]\n",
    "        :rtype: int\n",
    "        \"\"\"\n",
    "        if not grid or not grid[0]:\n",
    "            return 0\n",
    "        \n",
    "        m = len(grid)\n",
    "        n = len(grid[0])\n",
    "        # base case for the starting point\n",
    "        dp = [[grid[0][0] for _ in range(n)] for _ in range(m)]\n",
    "        \n",
    "        # base case for the first column and the first row\n",
    "        for i in range(1, m):\n",
    "            dp[i][0] = grid[i][0] + dp[i-1][0]\n",
    "        for j in range(1, n):\n",
    "            dp[0][j] = grid[0][j] + dp[0][j-1]\n",
    "        \n",
    "        # get the minimum of previous up step or left step.\n",
    "        for i in range(1, m):\n",
    "            for j in range(1, n):\n",
    "                dp[i][j] = min(dp[i-1][j], dp[i][j-1]) + grid[i][j]\n",
    "        \n",
    "        # the last element is the answer.\n",
    "        return dp[m-1][n-1]"
   ]
  }
 ],
 "metadata": {
  "kernelspec": {
   "display_name": "Python 2",
   "language": "python",
   "name": "python2"
  },
  "language_info": {
   "codemirror_mode": {
    "name": "ipython",
    "version": 2
   },
   "file_extension": ".py",
   "mimetype": "text/x-python",
   "name": "python",
   "nbconvert_exporter": "python",
   "pygments_lexer": "ipython2",
   "version": "2.7.10"
  }
 },
 "nbformat": 4,
 "nbformat_minor": 2
}
