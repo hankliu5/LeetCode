{
 "cells": [
  {
   "cell_type": "code",
   "execution_count": 8,
   "metadata": {},
   "outputs": [
    {
     "name": "stdout",
     "output_type": "stream",
     "text": [
      "[1]\n",
      "{}\n",
      "[3]\n",
      "{1: 3}\n",
      "[4]\n",
      "{1: 3, 3: 4}\n",
      "[4, 2]\n",
      "{1: 3, 3: 4}\n",
      "[10]\n",
      "{1: 3, 2: 10, 3: 4, 4: 10}\n",
      "[10, 6]\n",
      "{1: 3, 2: 10, 3: 4, 4: 10}\n",
      "[10, 7]\n",
      "{1: 3, 2: 10, 3: 4, 4: 10, 6: 7}\n",
      "[11]\n",
      "{1: 3, 2: 10, 3: 4, 4: 10, 6: 7, 7: 11, 10: 11}\n"
     ]
    },
    {
     "data": {
      "text/plain": [
       "[10, 3, 10]"
      ]
     },
     "execution_count": 8,
     "metadata": {},
     "output_type": "execute_result"
    }
   ],
   "source": [
    "# Stack, Dictionary\n",
    "\n",
    "class Solution(object):\n",
    "    def nextGreaterElement(self, findNums, nums):\n",
    "        \"\"\"\n",
    "        :type findNums: List[int]\n",
    "        :type nums: List[int]\n",
    "        :rtype: List[int]\n",
    "        \"\"\"\n",
    "        stack = []\n",
    "        d = {}\n",
    "        \n",
    "        for n in nums:\n",
    "            # if it cannot pop, that means the order is descending\n",
    "            # if it can pop, that means the order is locally ascending\n",
    "            # so we pop until the top of element in the stack is larger than the num.\n",
    "            while len(stack) and stack[-1] < n:\n",
    "                d[stack.pop()] = n\n",
    "            stack.append(n)\n",
    "            print stack\n",
    "            print d\n",
    "        \n",
    "        return map(lambda x: d.get(x, -1), findNums)\n",
    "\n",
    "s = Solution()\n",
    "s.nextGreaterElement([4,1,2], [1,3,4,2,10,6,7,11])"
   ]
  },
  {
   "cell_type": "code",
   "execution_count": null,
   "metadata": {
    "collapsed": true
   },
   "outputs": [],
   "source": []
  }
 ],
 "metadata": {
  "kernelspec": {
   "display_name": "Python 2",
   "language": "python",
   "name": "python2"
  },
  "language_info": {
   "codemirror_mode": {
    "name": "ipython",
    "version": 2
   },
   "file_extension": ".py",
   "mimetype": "text/x-python",
   "name": "python",
   "nbconvert_exporter": "python",
   "pygments_lexer": "ipython2",
   "version": "2.7.10"
  }
 },
 "nbformat": 4,
 "nbformat_minor": 2
}
