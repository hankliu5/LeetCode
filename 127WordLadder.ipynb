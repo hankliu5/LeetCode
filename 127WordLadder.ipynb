{
 "cells": [
  {
   "cell_type": "code",
   "execution_count": 1,
   "metadata": {},
   "outputs": [
    {
     "name": "stdout",
     "output_type": "stream",
     "text": [
      "5\n",
      "0\n"
     ]
    }
   ],
   "source": [
    "from collections import deque\n",
    "\n",
    "# Only one letter can be changed at a time.\n",
    "# Each transformed word must exist in the word list. \n",
    "# Note that beginWord is not a transformed word.\n",
    "class Solution(object):\n",
    "    def ladderLength(self, beginWord, endWord, wordList):\n",
    "        \"\"\"\n",
    "        :type beginWord: str\n",
    "        :type endWord: str\n",
    "        :type wordList: List[str]\n",
    "        :rtype: int\n",
    "        \"\"\"\n",
    "        lookup = set()\n",
    "        for word in wordList:\n",
    "            lookup.add(word)\n",
    "        queue = deque([[beginWord, 1]])\n",
    "        while queue:\n",
    "            word, length = queue.popleft()\n",
    "            if word == endWord:\n",
    "                return length\n",
    "            \n",
    "            # brute forcely to try every possibility\n",
    "            for i in range(len(word)):\n",
    "                for c in 'abcdefghijklmnopqrstuvwxyz':\n",
    "                    next_word = word[:i] + c + word[i+1:]\n",
    "                    if next_word in lookup:\n",
    "                        lookup.remove(next_word)\n",
    "                        queue.append([next_word, length + 1])\n",
    "        \n",
    "        return 0\n",
    "    \n",
    "s = Solution()\n",
    "print s.ladderLength(\"hit\", \"cog\", [\"hot\",\"dot\",\"dog\",\"lot\",\"log\",\"cog\"])\n",
    "print s.ladderLength(\"hit\", \"cog\", [\"hot\",\"dot\",\"dog\",\"lot\",\"log\"])"
   ]
  },
  {
   "cell_type": "code",
   "execution_count": null,
   "metadata": {
    "collapsed": true
   },
   "outputs": [],
   "source": []
  }
 ],
 "metadata": {
  "kernelspec": {
   "display_name": "Python 2",
   "language": "python",
   "name": "python2"
  },
  "language_info": {
   "codemirror_mode": {
    "name": "ipython",
    "version": 2
   },
   "file_extension": ".py",
   "mimetype": "text/x-python",
   "name": "python",
   "nbconvert_exporter": "python",
   "pygments_lexer": "ipython2",
   "version": "2.7.10"
  }
 },
 "nbformat": 4,
 "nbformat_minor": 2
}
