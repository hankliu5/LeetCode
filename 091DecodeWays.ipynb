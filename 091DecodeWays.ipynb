{
 "cells": [
  {
   "cell_type": "code",
   "execution_count": 13,
   "metadata": {},
   "outputs": [
    {
     "name": "stdout",
     "output_type": "stream",
     "text": [
      "2 12\n",
      "[1, 1, 2]\n",
      "2 12\n",
      "[1, 1, 2, 0]\n",
      "1 21\n",
      "[1, 1, 2, 3]\n",
      "2 12\n",
      "[1, 1, 2, 0, 0]\n",
      "1 21\n",
      "[1, 1, 2, 3, 0]\n",
      "3 13\n",
      "[1, 1, 2, 3, 5]\n"
     ]
    },
    {
     "data": {
      "text/plain": [
       "5"
      ]
     },
     "execution_count": 13,
     "metadata": {},
     "output_type": "execute_result"
    }
   ],
   "source": [
    "# DP\n",
    "class Solution(object):\n",
    "    def numDecodings(self, s):\n",
    "        \"\"\"\n",
    "        :type s: str\n",
    "        :rtype: int\n",
    "        \"\"\"\n",
    "        if not s:\n",
    "            return 0\n",
    "        \n",
    "        # first, create an array to store the history.\n",
    "        # the last element is the result\n",
    "        dp = [0] * (len(s) + 1)\n",
    "        \n",
    "        # base cases \n",
    "        dp[0] = 1\n",
    "        \n",
    "        # the first char of the string. only 0 is the case the we cannot decode.\n",
    "        dp[1] = 1 if (s[0] != '0') else 0\n",
    "        \n",
    "        # start from the second character\n",
    "        for i in range(2, len(s)+1):\n",
    "            # the second\n",
    "            one_char = int(s[i-1:i])\n",
    "            # the first + the second\n",
    "            two_chars = int(s[i-2:i])\n",
    "            print one_char, two_chars\n",
    "            # if one_char can be decoded, we add the history of previous char\n",
    "            if 1 <= one_char <= 9:\n",
    "                dp[i] += dp[i-1]\n",
    "            \n",
    "            # if two_chars can be decoded, we add the history of previous two chars.\n",
    "            if 10 <= two_chars <= 26:\n",
    "                dp[i] += dp[i-2]\n",
    "            print dp\n",
    "        return dp[len(s)]\n",
    "\n",
    "s = Solution()\n",
    "s.numDecodings(\"1\")\n",
    "s.numDecodings(\"12\")\n",
    "s.numDecodings(\"121\")\n",
    "s.numDecodings(\"1213\")\n"
   ]
  },
  {
   "cell_type": "code",
   "execution_count": null,
   "metadata": {
    "collapsed": true
   },
   "outputs": [],
   "source": []
  }
 ],
 "metadata": {
  "kernelspec": {
   "display_name": "Python 2",
   "language": "python",
   "name": "python2"
  },
  "language_info": {
   "codemirror_mode": {
    "name": "ipython",
    "version": 2
   },
   "file_extension": ".py",
   "mimetype": "text/x-python",
   "name": "python",
   "nbconvert_exporter": "python",
   "pygments_lexer": "ipython2",
   "version": "2.7.10"
  }
 },
 "nbformat": 4,
 "nbformat_minor": 2
}
