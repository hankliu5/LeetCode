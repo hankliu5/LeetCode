{
 "cells": [
  {
   "cell_type": "code",
   "execution_count": 1,
   "metadata": {},
   "outputs": [
    {
     "data": {
      "text/plain": [
       "[0, 6]"
      ]
     },
     "execution_count": 1,
     "metadata": {},
     "output_type": "execute_result"
    }
   ],
   "source": [
    "# Sliding window, anagram, string\n",
    "\n",
    "from collections import Counter\n",
    "\n",
    "class Solution(object):\n",
    "    def findAnagrams(self, s, p):\n",
    "        \"\"\"\n",
    "        :type s: str\n",
    "        :type p: str\n",
    "        :rtype: List[int]\n",
    "        \"\"\"\n",
    "        res = []\n",
    "        p_counter = Counter(p)\n",
    "        s_counter = Counter(s[:len(p)-1])\n",
    "        \n",
    "        # start from len(p)-1 so that we don't have to check again when\n",
    "        # the for-loop ends.\n",
    "        for i in range(len(p)-1, len(s)):\n",
    "            s_counter[s[i]] += 1\n",
    "            if s_counter == p_counter:\n",
    "                res.append(i-len(p)+1)\n",
    "            s_counter[s[i-len(p)+1]] -= 1\n",
    "            if s_counter[s[i-len(p)+1]] == 0:\n",
    "                del s_counter[s[i-len(p)+1]]\n",
    "        return res\n",
    "    \n",
    "s = Solution()\n",
    "s.findAnagrams(\"cbaebabacd\", \"abc\")"
   ]
  },
  {
   "cell_type": "code",
   "execution_count": null,
   "metadata": {
    "collapsed": true
   },
   "outputs": [],
   "source": []
  }
 ],
 "metadata": {
  "kernelspec": {
   "display_name": "Python 2",
   "language": "python",
   "name": "python2"
  },
  "language_info": {
   "codemirror_mode": {
    "name": "ipython",
    "version": 2
   },
   "file_extension": ".py",
   "mimetype": "text/x-python",
   "name": "python",
   "nbconvert_exporter": "python",
   "pygments_lexer": "ipython2",
   "version": "2.7.10"
  }
 },
 "nbformat": 4,
 "nbformat_minor": 2
}
