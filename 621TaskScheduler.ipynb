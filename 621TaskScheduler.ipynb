{
 "cells": [
  {
   "cell_type": "code",
   "execution_count": 1,
   "metadata": {},
   "outputs": [
    {
     "data": {
      "text/plain": [
       "8"
      ]
     },
     "execution_count": 1,
     "metadata": {},
     "output_type": "execute_result"
    }
   ],
   "source": [
    "# Math, Scheduler\n",
    "\n",
    "import collections\n",
    "\n",
    "# https://leetcode.com/problems/task-scheduler/discuss/104507/Python-Straightforward-with-Explanation\n",
    "# https://leetcode.com/problems/task-scheduler/discuss/104496/concise-Java-Solution-O(N)-time-O(26)-space\n",
    "class Solution(object):\n",
    "    def leastInterval(self, tasks, n):\n",
    "        \"\"\"\n",
    "        :type tasks: List[str]\n",
    "        :type n: int\n",
    "        :rtype: int\n",
    "        \"\"\"\n",
    "        counter = collections.Counter(tasks)\n",
    "        counts = counter.values()\n",
    "        most_task = max(counts)\n",
    "        most_task_count = counts.count(most_task)\n",
    "        return max(len(tasks), (most_task - 1) * (n + 1) + most_task_count)\n",
    "    \n",
    "s = Solution()\n",
    "s.leastInterval([\"A\",\"A\",\"A\",\"B\",\"B\",\"B\"], 2)"
   ]
  },
  {
   "cell_type": "code",
   "execution_count": null,
   "metadata": {
    "collapsed": true
   },
   "outputs": [],
   "source": []
  }
 ],
 "metadata": {
  "kernelspec": {
   "display_name": "Python 2",
   "language": "python",
   "name": "python2"
  },
  "language_info": {
   "codemirror_mode": {
    "name": "ipython",
    "version": 2
   },
   "file_extension": ".py",
   "mimetype": "text/x-python",
   "name": "python",
   "nbconvert_exporter": "python",
   "pygments_lexer": "ipython2",
   "version": "2.7.10"
  }
 },
 "nbformat": 4,
 "nbformat_minor": 2
}
