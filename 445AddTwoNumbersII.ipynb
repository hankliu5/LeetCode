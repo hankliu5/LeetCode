{
 "cells": [
  {
   "cell_type": "code",
   "execution_count": null,
   "metadata": {
    "collapsed": true
   },
   "outputs": [],
   "source": [
    "# stack\n",
    "\n",
    "# Definition for singly-linked list.\n",
    "# class ListNode(object):\n",
    "#     def __init__(self, x):\n",
    "#         self.val = x\n",
    "#         self.next = None\n",
    "\n",
    "class Solution(object):\n",
    "    def addTwoNumbers(self, l1, l2):\n",
    "        \"\"\"\n",
    "        :type l1: ListNode\n",
    "        :type l2: ListNode\n",
    "        :rtype: ListNode\n",
    "        \"\"\"\n",
    "        # need stack here because we start add from the least significant number.\n",
    "        stack_1 = []\n",
    "        stack_2 = []\n",
    "        \n",
    "        while l1 is not None:\n",
    "            stack_1.append(l1.val)\n",
    "            l1 = l1.next\n",
    "        \n",
    "        while l2 is not None:\n",
    "            stack_2.append(l2.val)\n",
    "            l2 = l2.next\n",
    "        \n",
    "        total = 0\n",
    "        curr = ListNode(0)\n",
    "        while stack_1 or stack_2:\n",
    "            if stack_1:\n",
    "                total += stack_1.pop()\n",
    "            if stack_2:\n",
    "                total += stack_2.pop()\n",
    "            curr.val = total % 10\n",
    "            \n",
    "            # handle the carry out\n",
    "            head = ListNode(total / 10)\n",
    "            head.next = curr\n",
    "            curr = head\n",
    "            total /= 10 # it's actually either 1 or 0\n",
    "            \n",
    "        # handle the carry out.\n",
    "        return curr.next if curr.val == 0 else curr\n",
    "            "
   ]
  }
 ],
 "metadata": {
  "kernelspec": {
   "display_name": "Python 2",
   "language": "python",
   "name": "python2"
  },
  "language_info": {
   "codemirror_mode": {
    "name": "ipython",
    "version": 2
   },
   "file_extension": ".py",
   "mimetype": "text/x-python",
   "name": "python",
   "nbconvert_exporter": "python",
   "pygments_lexer": "ipython2",
   "version": "2.7.10"
  }
 },
 "nbformat": 4,
 "nbformat_minor": 2
}
