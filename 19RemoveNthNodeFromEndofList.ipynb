{
 "cells": [
  {
   "cell_type": "code",
   "execution_count": null,
   "metadata": {
    "collapsed": true
   },
   "outputs": [],
   "source": [
    "# Linked-List, two pointers\n",
    "\n",
    "# Definition for singly-linked list.\n",
    "# class ListNode(object):\n",
    "#     def __init__(self, x):\n",
    "#         self.val = x\n",
    "#         self.next = None\n",
    "\n",
    "class Solution(object):\n",
    "    # if total length is m, the node we want to remove is at (m - n + 1)th place.\n",
    "    # so we want to move a point to (m - n)th.\n",
    "    def removeNthFromEnd(self, head, n):\n",
    "        \"\"\"\n",
    "        :type head: ListNode\n",
    "        :type n: int\n",
    "        :rtype: ListNode\n",
    "        \"\"\"\n",
    "        fast = slow = head\n",
    "        \n",
    "        # first move fast pointer to n-th place\n",
    "        for _ in range(n):\n",
    "            fast = fast.next\n",
    "        \n",
    "        # if fast is already None, that means we want to remove the head\n",
    "        if not fast:\n",
    "            return head.next\n",
    "        \n",
    "        # move slow to (m - n)th place.\n",
    "        while fast.next:\n",
    "            fast = fast.next\n",
    "            slow = slow.next\n",
    "        \n",
    "        # remove (m - n + 1)th node.\n",
    "        slow.next = slow.next.next\n",
    "        return head"
   ]
  }
 ],
 "metadata": {
  "kernelspec": {
   "display_name": "Python 2",
   "language": "python",
   "name": "python2"
  },
  "language_info": {
   "codemirror_mode": {
    "name": "ipython",
    "version": 2
   },
   "file_extension": ".py",
   "mimetype": "text/x-python",
   "name": "python",
   "nbconvert_exporter": "python",
   "pygments_lexer": "ipython2",
   "version": "2.7.10"
  }
 },
 "nbformat": 4,
 "nbformat_minor": 2
}
