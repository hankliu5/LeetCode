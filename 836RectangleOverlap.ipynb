{
 "cells": [
  {
   "cell_type": "code",
   "execution_count": 3,
   "metadata": {},
   "outputs": [
    {
     "name": "stdout",
     "output_type": "stream",
     "text": [
      "True\n",
      "False\n"
     ]
    }
   ],
   "source": [
    "# Math\n",
    "# Time complexity: O(1)\n",
    "class Solution(object):\n",
    "    def isRectangleOverlap(self, rec1, rec2):\n",
    "        \"\"\"\n",
    "        :type rec1: List[int]\n",
    "        :type rec2: List[int]\n",
    "        :rtype: bool\n",
    "        \"\"\"\n",
    "        # in 1D, to check whether two segments overlap\n",
    "        # there must be an x such that left1 < x < right1 and left2 < x < right2\n",
    "        # so that max(left1, left2) < x < min(right1, right2)\n",
    "        # and max(left1, left2) < min(right1, right2) is sufficient\n",
    "        \n",
    "        # in 2D, check x and y\n",
    "        return max(rec1[0], rec2[0]) < min(rec1[2], rec2[2]) and max(rec1[1], rec2[1]) < min(rec1[3], rec2[3])\n",
    "    \n",
    "s = Solution()\n",
    "print s.isRectangleOverlap([0,0,2,2], [1,1,3,3])\n",
    "print s.isRectangleOverlap([0,0,1,1], [1,0,2,1])\n",
    "\n"
   ]
  },
  {
   "cell_type": "code",
   "execution_count": null,
   "metadata": {
    "collapsed": true
   },
   "outputs": [],
   "source": []
  }
 ],
 "metadata": {
  "kernelspec": {
   "display_name": "Python 2",
   "language": "python",
   "name": "python2"
  },
  "language_info": {
   "codemirror_mode": {
    "name": "ipython",
    "version": 2
   },
   "file_extension": ".py",
   "mimetype": "text/x-python",
   "name": "python",
   "nbconvert_exporter": "python",
   "pygments_lexer": "ipython2",
   "version": "2.7.10"
  }
 },
 "nbformat": 4,
 "nbformat_minor": 2
}
