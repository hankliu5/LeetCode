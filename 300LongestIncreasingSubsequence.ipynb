{
 "cells": [
  {
   "cell_type": "code",
   "execution_count": 5,
   "metadata": {},
   "outputs": [
    {
     "name": "stdout",
     "output_type": "stream",
     "text": [
      "[10, 0, 0, 0, 0, 0, 0, 0, 0]\n",
      "[9, 0, 0, 0, 0, 0, 0, 0, 0]\n",
      "[2, 0, 0, 0, 0, 0, 0, 0, 0]\n",
      "[2, 5, 0, 0, 0, 0, 0, 0, 0]\n",
      "[2, 3, 0, 0, 0, 0, 0, 0, 0]\n",
      "[2, 3, 7, 0, 0, 0, 0, 0, 0]\n",
      "[2, 3, 7, 101, 0, 0, 0, 0, 0]\n",
      "[2, 3, 7, 18, 0, 0, 0, 0, 0]\n",
      "[2, 3, 6, 18, 0, 0, 0, 0, 0]\n"
     ]
    },
    {
     "data": {
      "text/plain": [
       "4"
      ]
     },
     "execution_count": 5,
     "metadata": {},
     "output_type": "execute_result"
    }
   ],
   "source": [
    "# Binary Search, Dynamic Programming\n",
    "\n",
    "class Solution(object):\n",
    "    def lengthOfLIS(self, nums):\n",
    "        \"\"\"\n",
    "        :type nums: List[int]\n",
    "        :rtype: int\n",
    "        \"\"\"\n",
    "        # tails is an array storing the smallest tail of all \n",
    "        # increasing subsequences with length i+1 in tails[i]\n",
    "        tails = [0] * len(nums)\n",
    "        size = 0\n",
    "        for x in nums:\n",
    "            i, j = 0, size\n",
    "            while i != j:\n",
    "                # (1) if x is larger than all tails, append it, increase the size by 1\n",
    "                # (2) if tails[i-1] < x <= tails[i], update tails[i]\n",
    "                m = (i + j) / 2\n",
    "                if tails[m] < x:\n",
    "                    i = m + 1\n",
    "                else:\n",
    "                    j = m\n",
    "            tails[i] = x\n",
    "            print tails\n",
    "            size = max(i+1, size)\n",
    "        return size\n",
    "    \n",
    "s = Solution()\n",
    "s.lengthOfLIS([10,9,2,5,3,7,101,18,6])"
   ]
  }
 ],
 "metadata": {
  "kernelspec": {
   "display_name": "Python 2",
   "language": "python",
   "name": "python2"
  },
  "language_info": {
   "codemirror_mode": {
    "name": "ipython",
    "version": 2
   },
   "file_extension": ".py",
   "mimetype": "text/x-python",
   "name": "python",
   "nbconvert_exporter": "python",
   "pygments_lexer": "ipython2",
   "version": "2.7.10"
  }
 },
 "nbformat": 4,
 "nbformat_minor": 2
}
