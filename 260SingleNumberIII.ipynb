{
 "cells": [
  {
   "cell_type": "code",
   "execution_count": 1,
   "metadata": {},
   "outputs": [
    {
     "data": {
      "text/plain": [
       "[3, 5]"
      ]
     },
     "execution_count": 1,
     "metadata": {},
     "output_type": "execute_result"
    }
   ],
   "source": [
    "# XOR, bit manipulation\n",
    "\n",
    "# Given an array of numbers nums, in which exactly two elements appear only once \n",
    "# and all the other elements appear exactly twice. \n",
    "# Find the two elements that appear only once.\n",
    "class Solution(object):\n",
    "    def singleNumber(self, nums):\n",
    "        \"\"\"\n",
    "        :type nums: List[int]\n",
    "        :rtype: List[int]\n",
    "        \"\"\"\n",
    "        xor = 0\n",
    "        a = 0\n",
    "        b = 0\n",
    "        \n",
    "        # because numbers other than answers only appear twice in the array,\n",
    "        # the xor will turn these numbers to zero.\n",
    "        for num in nums:\n",
    "            xor ^= num\n",
    "            \n",
    "        # xor contains the information of two answer numbers\n",
    "        # and the digit 1s in xor is the difference bits between two answer numbers.\n",
    "        # so we can use these 1s to differentiate numbers into two groups.\n",
    "        mask = 1\n",
    "        while xor & mask == 0:\n",
    "            mask <<= 1\n",
    "        \n",
    "        # loop again. if num & mask is true, that means the num is probably one of the answer numbers\n",
    "        # else, it is probably the other answer number.\n",
    "        # again, numbers that appear twice in the array will be XORed to zero.\n",
    "        for num in nums:\n",
    "            if num & mask:\n",
    "                a ^= num\n",
    "            else:\n",
    "                b ^= num\n",
    "        return [a, b]\n",
    "\n",
    "s = Solution()\n",
    "s.singleNumber([1,2,1,3,2,5])"
   ]
  },
  {
   "cell_type": "code",
   "execution_count": null,
   "metadata": {
    "collapsed": true
   },
   "outputs": [],
   "source": []
  }
 ],
 "metadata": {
  "kernelspec": {
   "display_name": "Python 2",
   "language": "python",
   "name": "python2"
  },
  "language_info": {
   "codemirror_mode": {
    "name": "ipython",
    "version": 2
   },
   "file_extension": ".py",
   "mimetype": "text/x-python",
   "name": "python",
   "nbconvert_exporter": "python",
   "pygments_lexer": "ipython2",
   "version": "2.7.10"
  }
 },
 "nbformat": 4,
 "nbformat_minor": 2
}
