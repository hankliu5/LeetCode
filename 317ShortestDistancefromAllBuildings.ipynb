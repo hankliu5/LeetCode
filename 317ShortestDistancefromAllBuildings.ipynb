{
 "cells": [
  {
   "cell_type": "code",
   "execution_count": 4,
   "metadata": {},
   "outputs": [
    {
     "name": "stdout",
     "output_type": "stream",
     "text": [
      "[[1, -1, 2, -1, 1], [-1, -1, -1, -1, -1], [-1, -1, 1, -1, -1]]\n",
      "[[0, 1, 0, 5, 0], [1, 2, 3, 4, 5], [2, 3, 0, 5, 6]]\n",
      "[[1, -2, 2, -2, 1], [-2, -2, -2, -2, -2], [-2, -2, 1, -2, -2]]\n",
      "[[0, 6, 0, 6, 0], [6, 6, 6, 6, 6], [8, 8, 0, 8, 8]]\n",
      "[[1, -3, 2, -3, 1], [-3, -3, -3, -3, -3], [-3, -3, 1, -3, -3]]\n",
      "[[0, 9, 0, 9, 0], [9, 8, 7, 8, 9], [10, 9, 0, 9, 10]]\n",
      "[9, 9, 9, 8, 7, 8, 9, 10, 9, 9, 10]\n"
     ]
    },
    {
     "data": {
      "text/plain": [
       "True"
      ]
     },
     "execution_count": 4,
     "metadata": {},
     "output_type": "execute_result"
    }
   ],
   "source": [
    "# BFS, Matrix\n",
    "# Find the distance from sources with a matrix => BFS\n",
    "import collections\n",
    "class Solution(object):\n",
    "    def shortestDistance(self, grid):\n",
    "        \"\"\"\n",
    "        :type grid: List[List[int]]\n",
    "        :rtype: int\n",
    "        \"\"\"\n",
    "        if not grid or not grid[0]:\n",
    "            return -1\n",
    "        \n",
    "        m = len(grid)\n",
    "        n = len(grid[0])\n",
    "        \n",
    "        # create a new matrix to record the distance for the empty space.\n",
    "        dist = [[0] * n for _ in range(m)]\n",
    "        \n",
    "        # get the number of total building because some empty spots might not reach buildings.\n",
    "        totalB = 0\n",
    "        for i in range(m):\n",
    "            for j in range(n):\n",
    "                if grid[i][j] == 1:\n",
    "                    totalB += 1\n",
    "        \n",
    "        def bfs(i, j, bIndex):\n",
    "            queue = collections.deque([(i, j, 0)])\n",
    "            while queue:\n",
    "                # i, j is the current place, d is the cumulative distance from the specific building.\n",
    "                i, j, d = queue.popleft()\n",
    "                for x, y in [(i+1, j), (i-1, j), (i, j+1), (i, j-1)]:\n",
    "                    # check the boundaries and the cursor is still valid.\n",
    "                    if 0 <= x < m and 0 <= y < n and grid[x][y] == bIndex:\n",
    "                        dist[x][y] += d+1\n",
    "                        grid[x][y] -= 1 # record this place has reached the specific building\n",
    "                        queue.append((x, y, d+1))\n",
    "        \n",
    "        bIndex = 0 # record the number of buildings that are visited.\n",
    "        for i in range(m):\n",
    "            for j in range(n):\n",
    "                if grid[i][j] == 1:\n",
    "                    bfs(i, j, bIndex)\n",
    "                    bIndex -= 1\n",
    "                    print grid\n",
    "                    print dist\n",
    "        \n",
    "        # if grid[i][j] + totalB == 0 means that place has visited all buildings.\n",
    "        res = [dist[i][j] for i in range(m) for j in range(n) if grid[i][j] + totalB == 0]\n",
    "        print res\n",
    "        return min(res) if res else -1\n",
    "\n",
    "# Time complxity is O(m^2 * n^2) \n",
    "# because we have to bfs the whole grid when we reach the existing buildings\n",
    "# and we have to iterate the whole grid to find out where the existing buildings are.\n",
    "s = Solution()\n",
    "s.shortestDistance([[1,0,2,0,1],[0,0,0,0,0],[0,0,1,0,0]]) == 7"
   ]
  },
  {
   "cell_type": "code",
   "execution_count": null,
   "metadata": {
    "collapsed": true
   },
   "outputs": [],
   "source": []
  }
 ],
 "metadata": {
  "kernelspec": {
   "display_name": "Python 2",
   "language": "python",
   "name": "python2"
  },
  "language_info": {
   "codemirror_mode": {
    "name": "ipython",
    "version": 2
   },
   "file_extension": ".py",
   "mimetype": "text/x-python",
   "name": "python",
   "nbconvert_exporter": "python",
   "pygments_lexer": "ipython2",
   "version": "2.7.10"
  }
 },
 "nbformat": 4,
 "nbformat_minor": 2
}
