{
 "cells": [
  {
   "cell_type": "code",
   "execution_count": null,
   "metadata": {
    "collapsed": true
   },
   "outputs": [],
   "source": [
    "# Dynamic Programming\n",
    "\n",
    "class Solution(object):\n",
    "    def maximalRectangle(self, matrix):\n",
    "        \"\"\"\n",
    "        :type matrix: List[List[str]]\n",
    "        :rtype: int\n",
    "        \"\"\"\n",
    "        # NULL CHECK! IMPORTANT!\n",
    "        if not matrix or not matrix[0]:\n",
    "            return 0\n",
    "        \n",
    "        n = len(matrix[0])\n",
    "        \n",
    "        # solution space. height is the histogram.\n",
    "        height = [0] * (n + 1)\n",
    "        ans = 0\n",
    "        \n",
    "        # starts from the top-left corner\n",
    "        for row in matrix:\n",
    "            for i in range(n):\n",
    "                # think height is a buliding\n",
    "                height[i] = height[i] + 1 if row[i] == '1' else 0\n",
    "            \n",
    "            # calculate the max area of rectangle until the current row.\n",
    "            stack = [-1]\n",
    "            for i in range(n+1):\n",
    "                # if the height of building is shorter than previous buildings, we should put it into stack\n",
    "                while height[i] < height[stack[-1]]:\n",
    "                    h = height[stack.pop()]\n",
    "                    w = i - 1 - stack[-1]\n",
    "                    ans = max(ans, h * w)\n",
    "                stack.append(i)\n",
    "        return ans\n",
    "        "
   ]
  }
 ],
 "metadata": {
  "kernelspec": {
   "display_name": "Python 2",
   "language": "python",
   "name": "python2"
  },
  "language_info": {
   "codemirror_mode": {
    "name": "ipython",
    "version": 2
   },
   "file_extension": ".py",
   "mimetype": "text/x-python",
   "name": "python",
   "nbconvert_exporter": "python",
   "pygments_lexer": "ipython2",
   "version": "2.7.10"
  }
 },
 "nbformat": 4,
 "nbformat_minor": 2
}
