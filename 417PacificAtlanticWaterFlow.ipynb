{
 "cells": [
  {
   "cell_type": "code",
   "execution_count": 1,
   "metadata": {},
   "outputs": [
    {
     "data": {
      "text/plain": [
       "[[0, 4], [1, 3], [1, 4], [2, 2], [3, 0], [3, 1], [4, 0]]"
      ]
     },
     "execution_count": 1,
     "metadata": {},
     "output_type": "execute_result"
    }
   ],
   "source": [
    "# DFS, Matrix\n",
    "\n",
    "# the map looks like this:\n",
    "# Pacific ~~~~~ \n",
    "# ~ [1,2,2,3,5] * \n",
    "# ~ [3,2,3,4,4] *\n",
    "# ~ [2,4,5,3,1] *\n",
    "# ~ [6,7,1,4,5] *\n",
    "# ~ [5,1,1,2,4] *\n",
    "#   *** Atlantic\n",
    "class Solution(object):\n",
    "    def pacificAtlantic(self, matrix):\n",
    "        \"\"\"\n",
    "        :type matrix: List[List[int]]\n",
    "        :rtype: List[List[int]]\n",
    "        \"\"\"\n",
    "        if not matrix:\n",
    "            return []\n",
    "        \n",
    "        # the directions for DFS\n",
    "        self.directions = [(1,0),(-1,0),(0,1),(0,-1)]\n",
    "        m = len(matrix)\n",
    "        n = len(matrix[0])\n",
    "        p_visited = [[False for _ in range(n)] for _ in range(m)]\n",
    "        a_visited = [[False for _ in range(n)] for _ in range(m)]\n",
    "        result = []\n",
    "        \n",
    "        # make the border be True in y-axis and DFS from the border\n",
    "        for i in range(m):\n",
    "            self.dfs(matrix, i, 0, p_visited, m, n)\n",
    "            self.dfs(matrix, i, n-1, a_visited, m, n)\n",
    "            \n",
    "        # make the border be True in x-axis and DFS from the border\n",
    "        for j in range(n):\n",
    "            self.dfs(matrix, 0, j, p_visited, m, n)\n",
    "            self.dfs(matrix, m-1, j, a_visited, m, n)\n",
    "        \n",
    "        # validation\n",
    "        for i in range(m):\n",
    "            for j in range(n):\n",
    "                if p_visited[i][j] and a_visited[i][j]:\n",
    "                    result.append([i, j])\n",
    "        return result\n",
    "    \n",
    "    def dfs(self, matrix, i, j, visited, m, n):\n",
    "        # if we get in this function, means it is valid point.\n",
    "        visited[i][j] = True\n",
    "        for dir in self.directions:\n",
    "            x, y = i + dir[0], j + dir[1]\n",
    "            \n",
    "            # if out of bound, or visited already or the neighbor flow is weaker than current position\n",
    "            if x < 0 or x >= m or y < 0 or y >= n or visited[x][y] or matrix[x][y] < matrix[i][j]:\n",
    "                continue\n",
    "            self.dfs(matrix, x, y, visited, m, n)\n",
    "\n",
    "s = Solution()\n",
    "s.pacificAtlantic([[1,2,2,3,5],\n",
    "                   [3,2,3,4,4],\n",
    "                   [2,4,5,3,1],\n",
    "                   [6,7,1,4,5],\n",
    "                   [5,1,1,2,4]])"
   ]
  },
  {
   "cell_type": "code",
   "execution_count": null,
   "metadata": {
    "collapsed": true
   },
   "outputs": [],
   "source": []
  }
 ],
 "metadata": {
  "kernelspec": {
   "display_name": "Python 2",
   "language": "python",
   "name": "python2"
  },
  "language_info": {
   "codemirror_mode": {
    "name": "ipython",
    "version": 2
   },
   "file_extension": ".py",
   "mimetype": "text/x-python",
   "name": "python",
   "nbconvert_exporter": "python",
   "pygments_lexer": "ipython2",
   "version": "2.7.10"
  }
 },
 "nbformat": 4,
 "nbformat_minor": 2
}
