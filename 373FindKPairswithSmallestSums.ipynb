{
 "cells": [
  {
   "cell_type": "code",
   "execution_count": 1,
   "metadata": {},
   "outputs": [
    {
     "name": "stdout",
     "output_type": "stream",
     "text": [
      "[[3, 0, 0]]\n",
      "[[5, 0, 1], [9, 1, 0]]\n",
      "[[7, 0, 2], [9, 1, 0]]\n"
     ]
    },
    {
     "data": {
      "text/plain": [
       "[[1, 2], [1, 4], [1, 6]]"
      ]
     },
     "execution_count": 1,
     "metadata": {},
     "output_type": "execute_result"
    }
   ],
   "source": [
    "# Heap\n",
    "# Find K-th smallest (largest) elements => heapsort\n",
    "import heapq\n",
    "class Solution(object):\n",
    "    def kSmallestPairs(self, nums1, nums2, k):\n",
    "        \"\"\"\n",
    "        :type nums1: List[int] sorted\n",
    "        :type nums2: List[int] sorted\n",
    "        :type k: int\n",
    "        :rtype: List[List[int]]\n",
    "        \"\"\"\n",
    "        # To find k-th smallest or largest items -> heap\n",
    "        queue = []\n",
    "        def push(i, j):\n",
    "            if i < len(nums1) and j < len(nums2):\n",
    "                heapq.heappush(queue, [nums1[i] + nums2[j], i, j])\n",
    "        push(0, 0)\n",
    "        pairs = []\n",
    "        while queue and len(pairs) < k:\n",
    "            print(queue)\n",
    "            _, i, j = heapq.heappop(queue)\n",
    "            pairs.append([nums1[i], nums2[j]])\n",
    "            push(i, j + 1)\n",
    "            if j == 0:\n",
    "                push(i + 1, 0)\n",
    "        return pairs\n",
    "\n",
    "s = Solution()\n",
    "s.kSmallestPairs([1,7,11], [2,4,6], 3)"
   ]
  },
  {
   "cell_type": "code",
   "execution_count": null,
   "metadata": {
    "collapsed": true
   },
   "outputs": [],
   "source": []
  }
 ],
 "metadata": {
  "kernelspec": {
   "display_name": "Python 2",
   "language": "python",
   "name": "python2"
  },
  "language_info": {
   "codemirror_mode": {
    "name": "ipython",
    "version": 2
   },
   "file_extension": ".py",
   "mimetype": "text/x-python",
   "name": "python",
   "nbconvert_exporter": "python",
   "pygments_lexer": "ipython2",
   "version": "2.7.10"
  }
 },
 "nbformat": 4,
 "nbformat_minor": 2
}
