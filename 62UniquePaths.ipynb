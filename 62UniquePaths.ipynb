{
 "cells": [
  {
   "cell_type": "code",
   "execution_count": 5,
   "metadata": {},
   "outputs": [
    {
     "name": "stdout",
     "output_type": "stream",
     "text": [
      "[1, 1, 1]\n",
      "[1, 2, 3]\n",
      "[1, 3, 6]\n"
     ]
    },
    {
     "data": {
      "text/plain": [
       "6"
      ]
     },
     "execution_count": 5,
     "metadata": {},
     "output_type": "execute_result"
    }
   ],
   "source": [
    "# Dynamic Programming, 0-1 knapsack\n",
    "\n",
    "class Solution(object):\n",
    "    def uniquePaths(self, m, n):\n",
    "        \"\"\"\n",
    "        :type m: int\n",
    "        :type n: int\n",
    "        :rtype: int\n",
    "        \"\"\"\n",
    "        # create solution space\n",
    "        dp = [[0 for _ in range(n)] for _ in range(m)]\n",
    "        \n",
    "        # base case: for the first row and the first column, we only have one way to the destination\n",
    "        for i in range(m):\n",
    "            dp[i][0] = 1\n",
    "        for j in range(n):\n",
    "            dp[0][j] = 1\n",
    "            \n",
    "        # add the total ways if we choose go up or go left.\n",
    "        for i in range(1, m):\n",
    "            for j in range(1, n):\n",
    "                from_up = dp[i-1][j] \n",
    "                from_left = dp[i][j-1]\n",
    "                dp[i][j] = from_up + from_left\n",
    "        for row in dp:\n",
    "            print row\n",
    "        return dp[m-1][n-1]\n",
    "\n",
    "s = Solution()\n",
    "s.uniquePaths(3, 3)"
   ]
  },
  {
   "cell_type": "code",
   "execution_count": null,
   "metadata": {
    "collapsed": true
   },
   "outputs": [],
   "source": []
  }
 ],
 "metadata": {
  "kernelspec": {
   "display_name": "Python 2",
   "language": "python",
   "name": "python2"
  },
  "language_info": {
   "codemirror_mode": {
    "name": "ipython",
    "version": 2
   },
   "file_extension": ".py",
   "mimetype": "text/x-python",
   "name": "python",
   "nbconvert_exporter": "python",
   "pygments_lexer": "ipython2",
   "version": "2.7.10"
  }
 },
 "nbformat": 4,
 "nbformat_minor": 2
}
