{
 "cells": [
  {
   "cell_type": "code",
   "execution_count": 9,
   "metadata": {},
   "outputs": [
    {
     "name": "stdout",
     "output_type": "stream",
     "text": [
      "Counter({'C': 1, 'B': 1, 'A': 0})\n",
      "A\n",
      "Counter({'C': 1, 'B': 1, 'A': 0, 'D': -1})\n",
      "AD\n",
      "Counter({'C': 1, 'B': 1, 'A': 0, 'D': -1, 'O': -1})\n",
      "ADO\n",
      "Counter({'C': 1, 'A': 0, 'B': 0, 'D': -1, 'O': -1})\n",
      "ADOB\n",
      "Counter({'C': 1, 'A': 0, 'B': 0, 'E': -1, 'D': -1, 'O': -1})\n",
      "ADOBE\n",
      "Counter({'A': 0, 'C': 0, 'B': 0, 'E': -1, 'D': -1, 'O': -1})\n",
      "ADOBEC\n",
      "Counter({'A': 0, 'C': 0, 'B': 0, 'E': -1, 'D': -1, 'O': -2})\n",
      "ADOBECO\n",
      "Counter({'A': 0, 'C': 0, 'B': 0, 'E': -1, 'D': -2, 'O': -2})\n",
      "ADOBECOD\n",
      "Counter({'A': 0, 'C': 0, 'B': 0, 'E': -2, 'D': -2, 'O': -2})\n",
      "ADOBECODE\n",
      "Counter({'A': 0, 'C': 0, 'B': -1, 'E': -2, 'D': -2, 'O': -2})\n",
      "ADOBECODEB\n",
      "Counter({'C': 0, 'A': -1, 'B': -1, 'E': -2, 'D': -2, 'O': -2})\n",
      "CODEBA\n",
      "Counter({'A': 0, 'C': 0, 'B': 0, 'E': -1, 'D': -1, 'O': -1, 'N': -1})\n",
      "CODEBAN\n",
      "Counter({'A': 0, 'B': 0, 'C': -1, 'E': -1, 'D': -1, 'O': -1, 'N': -1})\n",
      "BANC\n",
      "True\n"
     ]
    }
   ],
   "source": [
    "import collections\n",
    "\n",
    "class Solution(object):\n",
    "    def minWindow(self, s, t):\n",
    "        \"\"\"\n",
    "        :type s: str\n",
    "        :type t: str\n",
    "        :rtype: str\n",
    "        \"\"\"\n",
    "        # record the number we need for each character.\n",
    "        need = collections.Counter(t)\n",
    "        missing = len(t)\n",
    "        \n",
    "        i = I = J = 0\n",
    "        \n",
    "        # s[i:j] is the current window\n",
    "        for j, c in enumerate(s, 1):\n",
    "            # if need[c] in the counter, that means we've found.\n",
    "            if need[c] > 0:\n",
    "                missing -= 1\n",
    "            need[c] -= 1\n",
    "            print need\n",
    "            \n",
    "            # if we've collected all characters we need, we start to slide the window.\n",
    "            if missing == 0:\n",
    "                while i < j and need[s[i]] < 0:\n",
    "                    need[s[i]] += 1\n",
    "                    i += 1\n",
    "                if not J or j - i <= J - I:\n",
    "                    I, J = i, j\n",
    "            print s[i:j]\n",
    "        \n",
    "        # s[I:J] is the result window\n",
    "        return s[I:J]\n",
    "\n",
    "        \n",
    "s = Solution()\n",
    "print s.minWindow(\"ADOBECODEBANC\", \"ABC\") == \"BANC\""
   ]
  },
  {
   "cell_type": "code",
   "execution_count": null,
   "metadata": {
    "collapsed": true
   },
   "outputs": [],
   "source": []
  }
 ],
 "metadata": {
  "kernelspec": {
   "display_name": "Python 2",
   "language": "python",
   "name": "python2"
  },
  "language_info": {
   "codemirror_mode": {
    "name": "ipython",
    "version": 2
   },
   "file_extension": ".py",
   "mimetype": "text/x-python",
   "name": "python",
   "nbconvert_exporter": "python",
   "pygments_lexer": "ipython2",
   "version": "2.7.10"
  }
 },
 "nbformat": 4,
 "nbformat_minor": 2
}
