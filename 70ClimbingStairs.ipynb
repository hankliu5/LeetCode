{
 "cells": [
  {
   "cell_type": "code",
   "execution_count": 3,
   "metadata": {},
   "outputs": [
    {
     "data": {
      "text/plain": [
       "8"
      ]
     },
     "execution_count": 3,
     "metadata": {},
     "output_type": "execute_result"
    }
   ],
   "source": [
    "# Dynamic Programming, Knapsack Problem\n",
    "\n",
    "class Solution(object):\n",
    "    def climbStairs(self, n):\n",
    "        \"\"\"\n",
    "        :type n: int\n",
    "        :rtype: int\n",
    "        \"\"\"\n",
    "        ret = [1, 1, 2] + [0 for _ in range(3, n+1)]\n",
    "        \n",
    "        for i in range(3, n+1):\n",
    "            # get results from previous 1 and 2 steps\n",
    "            ret[i] += ret[i-1] + ret[i-2]\n",
    "        \n",
    "        return ret[n]\n",
    "\n",
    "s = Solution()\n",
    "s.climbStairs(5)"
   ]
  }
 ],
 "metadata": {
  "kernelspec": {
   "display_name": "Python 2",
   "language": "python",
   "name": "python2"
  },
  "language_info": {
   "codemirror_mode": {
    "name": "ipython",
    "version": 2
   },
   "file_extension": ".py",
   "mimetype": "text/x-python",
   "name": "python",
   "nbconvert_exporter": "python",
   "pygments_lexer": "ipython2",
   "version": "2.7.10"
  }
 },
 "nbformat": 4,
 "nbformat_minor": 2
}
