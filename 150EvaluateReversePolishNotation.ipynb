{
 "cells": [
  {
   "cell_type": "code",
   "execution_count": 1,
   "metadata": {},
   "outputs": [
    {
     "data": {
      "text/plain": [
       "9"
      ]
     },
     "execution_count": 1,
     "metadata": {},
     "output_type": "execute_result"
    }
   ],
   "source": [
    "# Stack, Math\n",
    "\n",
    "# Run some example to know how to calculate\n",
    "# [\"2\", \"1\", \"+\", \"3\", \"*\"] = 9\n",
    "# [\"4\", \"13\", \"5\", \"/\", \"+\"] = 6\n",
    "# [\"10\", \"6\", \"9\", \"3\", \"+\", \"-11\", \"*\", \"/\", \"*\", \"17\", \"+\", \"5\", \"+\"] = 22\n",
    "class Solution(object):\n",
    "    def evalRPN(self, tokens):\n",
    "        \"\"\"\n",
    "        :type tokens: List[str]\n",
    "        :rtype: int\n",
    "        \"\"\"\n",
    "        stack = []\n",
    "        for t in tokens:\n",
    "            if t not in ['+', '-', '*', '/']:\n",
    "                stack.append(int(t))\n",
    "            else:\n",
    "                # here take care of the case like \"1/-22\",\n",
    "                # in Python 2.x, it returns -1, while in \n",
    "                # Leetcode it should return 0\n",
    "                r, l = stack.pop(), stack.pop()\n",
    "                if t == \"+\":\n",
    "                    stack.append(l+r)\n",
    "                elif t == '-':\n",
    "                    stack.append(l-r)\n",
    "                elif t == '*':\n",
    "                    stack.append(l*r)\n",
    "                else:\n",
    "                    if l*r < 0 and l % r != 0:\n",
    "                        stack.append(l/r + 1)\n",
    "                    else:\n",
    "                        stack.append(l/r)\n",
    "        return stack.pop()\n",
    "\n",
    "s = Solution()\n",
    "s.evalRPN([\"2\", \"1\", \"+\", \"3\", \"*\"])"
   ]
  },
  {
   "cell_type": "code",
   "execution_count": null,
   "metadata": {
    "collapsed": true
   },
   "outputs": [],
   "source": []
  }
 ],
 "metadata": {
  "kernelspec": {
   "display_name": "Python 2",
   "language": "python",
   "name": "python2"
  },
  "language_info": {
   "codemirror_mode": {
    "name": "ipython",
    "version": 2
   },
   "file_extension": ".py",
   "mimetype": "text/x-python",
   "name": "python",
   "nbconvert_exporter": "python",
   "pygments_lexer": "ipython2",
   "version": "2.7.10"
  }
 },
 "nbformat": 4,
 "nbformat_minor": 2
}
