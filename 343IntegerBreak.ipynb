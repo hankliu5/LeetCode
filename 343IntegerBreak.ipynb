{
 "cells": [
  {
   "cell_type": "code",
   "execution_count": 4,
   "metadata": {},
   "outputs": [
    {
     "name": "stdout",
     "output_type": "stream",
     "text": [
      "1\n",
      "36\n",
      "1\n",
      "36\n"
     ]
    }
   ],
   "source": [
    "class Solution(object):\n",
    "    def integerBreak(self, n):\n",
    "        \"\"\"\n",
    "        :type n: int\n",
    "        :rtype: int\n",
    "        \"\"\"\n",
    "        ret = [0] * (n+1)\n",
    "        ret[1] = 0\n",
    "        ret[2] = 1\n",
    "        for i in range(3, n+1):\n",
    "            for j in range(1, i):\n",
    "                # i = j + S, S is one number or the sum of more than one number\n",
    "                # if i is sum of two numbers, product = j * (i-j)\n",
    "                # elif i is sum of at least three numbers, product = maxArr[i-j]\n",
    "                # else not take the j.\n",
    "                ret[i] = max(ret[i], j * (i-j), j * ret[i-j])\n",
    "        return ret[n]\n",
    "    \n",
    "class Solution2(object):\n",
    "    def integerBreak(self, n):\n",
    "        \"\"\"\n",
    "        :type n: int\n",
    "        :rtype: int\n",
    "        \"\"\"\n",
    "        # the n should be divided by the factor of 2 or 3 only.\n",
    "        # and break down by 3 as many as possible to make maximum product.\n",
    "        if n == 2:\n",
    "            return 1\n",
    "        if n == 3:\n",
    "            return 2\n",
    "        product = 1\n",
    "        \n",
    "        while n > 4:\n",
    "            product *= 3\n",
    "            n -= 3\n",
    "        \n",
    "        product *= n\n",
    "        return product\n",
    "    \n",
    "s = Solution()\n",
    "print s.integerBreak(2)\n",
    "print s.integerBreak(10)\n",
    "\n",
    "s = Solution2()\n",
    "print s.integerBreak(2)\n",
    "print s.integerBreak(10)"
   ]
  },
  {
   "cell_type": "code",
   "execution_count": null,
   "metadata": {
    "collapsed": true
   },
   "outputs": [],
   "source": []
  }
 ],
 "metadata": {
  "kernelspec": {
   "display_name": "Python 2",
   "language": "python",
   "name": "python2"
  },
  "language_info": {
   "codemirror_mode": {
    "name": "ipython",
    "version": 2
   },
   "file_extension": ".py",
   "mimetype": "text/x-python",
   "name": "python",
   "nbconvert_exporter": "python",
   "pygments_lexer": "ipython2",
   "version": "2.7.10"
  }
 },
 "nbformat": 4,
 "nbformat_minor": 2
}
