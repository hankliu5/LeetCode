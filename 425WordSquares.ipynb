{
 "cells": [
  {
   "cell_type": "code",
   "execution_count": 2,
   "metadata": {},
   "outputs": [
    {
     "name": "stdout",
     "output_type": "stream",
     "text": [
      "[['wall', 'area', 'lead', 'lady'], ['ball', 'area', 'lead', 'lady']]\n"
     ]
    }
   ],
   "source": [
    "# Trie\n",
    "# Have a prefix to find the rest of words in the dictionary => Trie\n",
    "import collections\n",
    "def wordSquares(words):\n",
    "    \"\"\"\n",
    "    :type words: List[str]\n",
    "    :rtype: List[List[str]]\n",
    "    \"\"\"\n",
    "    \n",
    "    # creates a prefix dictionary\n",
    "    n = len(words[0])\n",
    "    fulls = collections.defaultdict(list)\n",
    "    for word in words:\n",
    "        for i in range(n):\n",
    "            fulls[word[:i]].append(word)\n",
    "\n",
    "    def build(square):\n",
    "        if len(square) == n:\n",
    "            squares.append(square)\n",
    "            return\n",
    "        \n",
    "        # find out the prefix for the next word\n",
    "        for word in fulls[''.join(zip(*square)[len(square)])]:\n",
    "            build(square + [word])\n",
    "\n",
    "    squares = []\n",
    "    for word in words:\n",
    "        build([word])\n",
    "    return squares\n",
    "\n",
    "words = [\"area\",\"lead\",\"wall\",\"lady\",\"ball\"]\n",
    "print(wordSquares(words))"
   ]
  },
  {
   "cell_type": "code",
   "execution_count": 5,
   "metadata": {},
   "outputs": [
    {
     "name": "stdout",
     "output_type": "stream",
     "text": [
      "defaultdict(<type 'list'>, {'': ['area', 'lead', 'wall', 'lady', 'ball'], 'a': ['area'], 'le': ['lead'], 'ba': ['ball'], 'wa': ['wall'], 'lea': ['lead'], 'lad': ['lady'], 'la': ['lady'], 'l': ['lead', 'lady'], 'ar': ['area'], 'are': ['area'], 'w': ['wall'], 'wal': ['wall'], 'bal': ['ball'], 'b': ['ball']})\n"
     ]
    }
   ],
   "source": [
    "words = [\"area\",\"lead\",\"wall\",\"lady\",\"ball\"]\n",
    "\n",
    "n = len(words[0])\n",
    "fulls = collections.defaultdict(list)\n",
    "for word in words:\n",
    "    for i in range(n):\n",
    "        fulls[word[:i]].append(word)\n",
    "        \n",
    "print(fulls)"
   ]
  },
  {
   "cell_type": "code",
   "execution_count": 12,
   "metadata": {},
   "outputs": [
    {
     "name": "stdout",
     "output_type": "stream",
     "text": [
      "a\n",
      "le\n",
      "lad\n"
     ]
    }
   ],
   "source": [
    "def findPrefix(square):\n",
    "    return ''.join(zip(*square)[len(square)])\n",
    "print(findPrefix(['wall']))\n",
    "print(findPrefix(['wall', 'area']))\n",
    "print(findPrefix(['wall', 'area', 'lead']))"
   ]
  },
  {
   "cell_type": "code",
   "execution_count": null,
   "metadata": {
    "collapsed": true
   },
   "outputs": [],
   "source": []
  }
 ],
 "metadata": {
  "kernelspec": {
   "display_name": "Python 2",
   "language": "python",
   "name": "python2"
  },
  "language_info": {
   "codemirror_mode": {
    "name": "ipython",
    "version": 2
   },
   "file_extension": ".py",
   "mimetype": "text/x-python",
   "name": "python",
   "nbconvert_exporter": "python",
   "pygments_lexer": "ipython2",
   "version": "2.7.10"
  }
 },
 "nbformat": 4,
 "nbformat_minor": 2
}
