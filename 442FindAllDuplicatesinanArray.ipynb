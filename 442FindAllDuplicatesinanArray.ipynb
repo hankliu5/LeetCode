{
 "cells": [
  {
   "cell_type": "code",
   "execution_count": 1,
   "metadata": {},
   "outputs": [
    {
     "name": "stdout",
     "output_type": "stream",
     "text": [
      "[4, 3, 2, -7, 8, 2, 3, 1]\n",
      "[4, 3, -2, -7, 8, 2, 3, 1]\n",
      "[4, -3, -2, -7, 8, 2, 3, 1]\n",
      "[4, -3, -2, -7, 8, 2, -3, 1]\n",
      "[4, -3, -2, -7, 8, 2, -3, -1]\n",
      "[4, -3, -2, -7, 8, 2, -3, -1]\n",
      "[4, -3, -2, -7, 8, 2, -3, -1]\n",
      "[-4, -3, -2, -7, 8, 2, -3, -1]\n"
     ]
    },
    {
     "data": {
      "text/plain": [
       "[2, 3]"
      ]
     },
     "execution_count": 1,
     "metadata": {},
     "output_type": "execute_result"
    }
   ],
   "source": [
    "# Array, Hash function\n",
    "\n",
    "class Solution(object):\n",
    "    # find out the elements appear in the array twice.\n",
    "    # 1 <= a[i] <= n, so we can use elements as hashs.\n",
    "    def findDuplicates(self, nums):\n",
    "        \"\"\"\n",
    "        :type nums: List[int]\n",
    "        :rtype: List[int]\n",
    "        \"\"\"\n",
    "        res = []\n",
    "        for num in nums:\n",
    "            if nums[abs(num)-1] < 0:\n",
    "                res.append(abs(num))\n",
    "            else:\n",
    "                nums[abs(num)-1] *= -1\n",
    "            print nums\n",
    "        return res\n",
    "\n",
    "s = Solution()\n",
    "s.findDuplicates([4,3,2,7,8,2,3,1])"
   ]
  },
  {
   "cell_type": "code",
   "execution_count": null,
   "metadata": {
    "collapsed": true
   },
   "outputs": [],
   "source": []
  }
 ],
 "metadata": {
  "kernelspec": {
   "display_name": "Python 2",
   "language": "python",
   "name": "python2"
  },
  "language_info": {
   "codemirror_mode": {
    "name": "ipython",
    "version": 2
   },
   "file_extension": ".py",
   "mimetype": "text/x-python",
   "name": "python",
   "nbconvert_exporter": "python",
   "pygments_lexer": "ipython2",
   "version": "2.7.10"
  }
 },
 "nbformat": 4,
 "nbformat_minor": 2
}
