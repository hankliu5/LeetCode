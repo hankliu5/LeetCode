{
 "cells": [
  {
   "cell_type": "code",
   "execution_count": 1,
   "metadata": {},
   "outputs": [
    {
     "name": "stdout",
     "output_type": "stream",
     "text": [
      "6\n",
      "0\n",
      "7006652\n"
     ]
    }
   ],
   "source": [
    "# String, Math\n",
    "\n",
    "class Solution(object):\n",
    "    def multiply(self, num1, num2):\n",
    "        \"\"\"\n",
    "        :type num1: str\n",
    "        :type num2: str\n",
    "        :rtype: str\n",
    "        \"\"\"\n",
    "        m = len(num1)\n",
    "        n = len(num2)\n",
    "        \n",
    "        # the result at most has m+n digit.\n",
    "        pos = [0 for _ in range(m+n)]\n",
    "        \n",
    "        # start from rightmost digit\n",
    "        for i in range(m-1, -1, -1):\n",
    "            for j in range(n-1, -1, -1):\n",
    "                mul = int(num1[i]) * int(num2[j])\n",
    "                p1 = i + j\n",
    "                p2 = i + j + 1\n",
    "                \n",
    "                # pos[p2] is the tenth digit from previous result\n",
    "                temp_sum = mul + pos[p2]\n",
    "                pos[p1] += temp_sum / 10\n",
    "                pos[p2] = temp_sum % 10\n",
    "        \n",
    "        # reassemble the result to string type.\n",
    "        ret = ''\n",
    "        for digit in pos:\n",
    "            if digit == 0 and len(ret) == 0:\n",
    "                continue\n",
    "            ret += str(digit)\n",
    "        \n",
    "        return ret if len(ret) > 0 else '0'\n",
    "\n",
    "s = Solution()\n",
    "print s.multiply('2','3')\n",
    "print s.multiply('1234', '0')\n",
    "print s.multiply('1234', '5678')\n"
   ]
  },
  {
   "cell_type": "code",
   "execution_count": null,
   "metadata": {
    "collapsed": true
   },
   "outputs": [],
   "source": []
  }
 ],
 "metadata": {
  "kernelspec": {
   "display_name": "Python 2",
   "language": "python",
   "name": "python2"
  },
  "language_info": {
   "codemirror_mode": {
    "name": "ipython",
    "version": 2
   },
   "file_extension": ".py",
   "mimetype": "text/x-python",
   "name": "python",
   "nbconvert_exporter": "python",
   "pygments_lexer": "ipython2",
   "version": "2.7.10"
  }
 },
 "nbformat": 4,
 "nbformat_minor": 2
}
