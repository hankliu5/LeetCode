{
 "cells": [
  {
   "cell_type": "code",
   "execution_count": 10,
   "metadata": {},
   "outputs": [
    {
     "name": "stdout",
     "output_type": "stream",
     "text": [
      "1.1 0.1\n",
      "1.21 0.11\n",
      "1.331 0.121\n",
      "1.4641 0.1331\n",
      "1.61051 0.14641\n",
      "1.771561 0.161051\n",
      "1.9487171 0.1771561\n",
      "2.14358881 0.19487171\n",
      "2.357947691 0.214358881\n",
      "1.5937424601 0.2357947691\n",
      "1.65311670611 0.15937424601\n",
      "1.70842837672 0.165311670611\n",
      "1.75827121439 0.170842837672\n",
      "1.80099833583 0.175827121439\n",
      "1.83468816942 0.180099833583\n",
      "1.85710598636 0.183468816942\n",
      "1.67994988636 0.185710598636\n",
      "1.48507817636 0.167994988636\n",
      "1.27071929536 0.148507817636\n",
      "1.03492452626 0.127071929536\n",
      "0.875550280247 0.103492452626\n",
      "[1.0, 0.1, 0.11000000000000001, 0.12100000000000002, 0.13310000000000002, 0.14641, 0.161051, 0.1771561, 0.19487171, 0.21435888100000003, 0.23579476910000002, 0.15937424601, 0.165311670611, 0.1708428376721, 0.17582712143931, 0.180099833583241, 0.1834688169415651, 0.18571059863572162, 0.16799498863572163, 0.14850781763572163, 0.1270719295357216, 0.10349245262572163]\n"
     ]
    },
    {
     "data": {
      "text/plain": [
       "0.7327777870686082"
      ]
     },
     "execution_count": 10,
     "metadata": {},
     "output_type": "execute_result"
    }
   ],
   "source": [
    "# Dynamic Programming, Math\n",
    "\n",
    "class Solution(object):\n",
    "    def new21Game(self, N, K, W):\n",
    "        \"\"\"\n",
    "        :type N: int\n",
    "        :type K: int\n",
    "        :type W: int\n",
    "        :rtype: float\n",
    "        \"\"\"\n",
    "        # when done with play, the points will be in range [K, K+W-1]\n",
    "        # so we need the probability of [0, K] first to calculate the probability [K, K+W-1]\n",
    "        \n",
    "        # For positions x <= K,\n",
    "        # p[x] = (p[x-1]+p[x-2]+...+p[x-W])*(1/W)\n",
    "        # for a new p[x], we subtract p[x-W-1] and then add p[x-1]\n",
    "        \n",
    "        # For positions x > K,\n",
    "        # p[x] = (p[K-1] + p[K-2] + ... + p[x-W]) * 1/W\n",
    "        \n",
    "        # dp[i]: probability of getting point i\n",
    "        # dp[i] = sum(last W dp values) / W\n",
    "        if K == 0 or N >= K + W:\n",
    "            return 1.0\n",
    "        dp = [1.0] + [0.0] * N\n",
    "        Wsum = 1.0\n",
    "        for i in range(1, N+1):\n",
    "            dp[i] += Wsum / W\n",
    "            if i < K:\n",
    "                Wsum += dp[i]\n",
    "            if i - W >= 0:\n",
    "                Wsum -= dp[i-W]\n",
    "            print Wsum, dp[i]\n",
    "        print dp\n",
    "        return sum(dp[K:])\n",
    "        \n",
    "s = Solution()\n",
    "s.new21Game(21, 17, 10)\n"
   ]
  },
  {
   "cell_type": "code",
   "execution_count": null,
   "metadata": {
    "collapsed": true
   },
   "outputs": [],
   "source": []
  }
 ],
 "metadata": {
  "kernelspec": {
   "display_name": "Python 2",
   "language": "python",
   "name": "python2"
  },
  "language_info": {
   "codemirror_mode": {
    "name": "ipython",
    "version": 2
   },
   "file_extension": ".py",
   "mimetype": "text/x-python",
   "name": "python",
   "nbconvert_exporter": "python",
   "pygments_lexer": "ipython2",
   "version": "2.7.10"
  }
 },
 "nbformat": 4,
 "nbformat_minor": 2
}
