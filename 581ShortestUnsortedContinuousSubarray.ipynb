{
 "cells": [
  {
   "cell_type": "code",
   "execution_count": 1,
   "metadata": {},
   "outputs": [
    {
     "data": {
      "text/plain": [
       "5"
      ]
     },
     "execution_count": 1,
     "metadata": {},
     "output_type": "execute_result"
    }
   ],
   "source": [
    "# Math, array\n",
    "\n",
    "# if nums is a sorted array\n",
    "# nums[k] <= nums[k + 1] for all 0 <= k < n - 1.\n",
    "# nums[k] == max[k] for all 0 <= k <= n - 1, where max[k] is the maximum value of subarray nums[0, k].\n",
    "# nums[k] == min[k] for all 0 <= k <= n - 1, where min[k] is the minimum value of subarray nums[k, n - 1].\n",
    "class Solution(object):\n",
    "    def findUnsortedSubarray(self, nums):\n",
    "        \"\"\"\n",
    "        :type nums: List[int]\n",
    "        :rtype: int\n",
    "        \"\"\"\n",
    "        i = 0\n",
    "        j = -1\n",
    "        maximum = float('-inf')\n",
    "        minimum = float('inf')\n",
    "        l = 0\n",
    "        r = len(nums) - 1\n",
    "        while r >= 0:\n",
    "            maximum = max(maximum, nums[l])\n",
    "            if nums[l] != maximum:\n",
    "                j = l\n",
    "            \n",
    "            minimum = min(minimum, nums[r])\n",
    "            if nums[r] != minimum:\n",
    "                i = r\n",
    "            l += 1\n",
    "            r -= 1\n",
    "        \n",
    "        return (j - i + 1)\n",
    "    \n",
    "s = Solution()\n",
    "s.findUnsortedSubarray([2,6,4,8,10,9,15])"
   ]
  },
  {
   "cell_type": "code",
   "execution_count": null,
   "metadata": {
    "collapsed": true
   },
   "outputs": [],
   "source": []
  }
 ],
 "metadata": {
  "kernelspec": {
   "display_name": "Python 2",
   "language": "python",
   "name": "python2"
  },
  "language_info": {
   "codemirror_mode": {
    "name": "ipython",
    "version": 2
   },
   "file_extension": ".py",
   "mimetype": "text/x-python",
   "name": "python",
   "nbconvert_exporter": "python",
   "pygments_lexer": "ipython2",
   "version": "2.7.10"
  }
 },
 "nbformat": 4,
 "nbformat_minor": 2
}
