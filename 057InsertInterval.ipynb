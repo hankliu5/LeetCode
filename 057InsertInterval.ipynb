{
 "cells": [
  {
   "cell_type": "code",
   "execution_count": 13,
   "metadata": {},
   "outputs": [
    {
     "name": "stdout",
     "output_type": "stream",
     "text": [
      "[]\n",
      "[[6, 9]]\n",
      "[[1, 5], [6, 9]]\n",
      "\n",
      "[[1, 2]]\n",
      "[[12, 16]]\n",
      "[[1, 2], [3, 10], [12, 16]]\n",
      "\n",
      "[]\n",
      "[]\n",
      "[[1, 10]]\n",
      "\n"
     ]
    }
   ],
   "source": [
    "# Linear Search\n",
    "\n",
    "# Definition for an interval.\n",
    "class Interval(object):\n",
    "    def __init__(self, s=0, e=0):\n",
    "        self.start = s\n",
    "        self.end = e\n",
    "    \n",
    "    def __repr__(self):\n",
    "        return \"[{}, {}]\".format(self.start, self.end)\n",
    "\n",
    "class Solution(object):\n",
    "    def insert(self, intervals, newInterval):\n",
    "        \"\"\"\n",
    "        :type intervals: List[Interval]\n",
    "        :type newInterval: Interval\n",
    "        :rtype: List[Interval]\n",
    "        \"\"\"\n",
    "        s, e = newInterval.start, newInterval.end\n",
    "        # collect the left parts and right parts of the new interval.\n",
    "        left = [i for i in intervals if i.end < s]\n",
    "        right = [i for i in intervals if i.start > e]\n",
    "        \n",
    "        print left\n",
    "        print right\n",
    "        \n",
    "        # if not equal, means we have something to merge\n",
    "        if left + right != intervals:\n",
    "            # len(left) indicates the index of the first interval we have to merge\n",
    "            s = min(s, intervals[len(left)].start)\n",
    "            \n",
    "            # ~len(right) len(left) indicates the index of the first interval from the right to the left\n",
    "            # we have to merge\n",
    "            e = max(e, intervals[~len(right)].end)\n",
    "        return left + [Interval(s, e)] + right\n",
    "            \n",
    "s = Solution()\n",
    "intervals_params = [[1,3],[6,9]], [[1,2],[3,5],[6,7],[8,10],[12,16]], [[1,5], [5, 10]]\n",
    "newIntervals_params = [2,5],[4,8],[1,10]\n",
    "\n",
    "intervals = []\n",
    "for e in intervals_params:\n",
    "    temp = []\n",
    "    for i in e:\n",
    "        temp.append(Interval(i[0], i[1]))\n",
    "    intervals.append(temp)\n",
    "\n",
    "newIntervals = []\n",
    "for i in newIntervals_params:\n",
    "    newIntervals.append(Interval(i[0], i[1]))\n",
    "    \n",
    "for i, n in zip(intervals, newIntervals):\n",
    "    print s.insert(i, n)\n",
    "    print"
   ]
  },
  {
   "cell_type": "code",
   "execution_count": null,
   "metadata": {
    "collapsed": true
   },
   "outputs": [],
   "source": []
  }
 ],
 "metadata": {
  "kernelspec": {
   "display_name": "Python 2",
   "language": "python",
   "name": "python2"
  },
  "language_info": {
   "codemirror_mode": {
    "name": "ipython",
    "version": 2
   },
   "file_extension": ".py",
   "mimetype": "text/x-python",
   "name": "python",
   "nbconvert_exporter": "python",
   "pygments_lexer": "ipython2",
   "version": "2.7.10"
  }
 },
 "nbformat": 4,
 "nbformat_minor": 2
}
