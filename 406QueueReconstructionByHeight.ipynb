{
 "cells": [
  {
   "cell_type": "code",
   "execution_count": 1,
   "metadata": {},
   "outputs": [
    {
     "data": {
      "text/plain": [
       "[[5, 0], [7, 0], [5, 2], [6, 1], [4, 4], [7, 1]]"
      ]
     },
     "execution_count": 1,
     "metadata": {},
     "output_type": "execute_result"
    }
   ],
   "source": [
    "# Sorting, insertion\n",
    "\n",
    "# h is the height of the person and k is the number of people \n",
    "# in front of this person who have a height greater than or equal to h\n",
    "class Solution(object):\n",
    "    def reconstructQueue(self, people):\n",
    "        \"\"\"\n",
    "        :type people: List[List[int]]\n",
    "        :rtype: List[List[int]]\n",
    "        \"\"\"\n",
    "        if not people:\n",
    "            return []\n",
    "        \n",
    "        # start from the tallest people and lowest k.\n",
    "        people.sort(key=lambda (h, k): (-h, k))\n",
    "        queue = []\n",
    "        for p in people:\n",
    "            # p[1] is k, means at least k people taller them this person.\n",
    "            # since we start from the tallest, we can gurantee the correct order.\n",
    "            queue.insert(p[1], p)\n",
    "        \n",
    "        return queue\n",
    "\n",
    "s = Solution()\n",
    "s.reconstructQueue([[7,0],[4,4],[7,1],[5,0],[6,1],[5,2]])"
   ]
  },
  {
   "cell_type": "code",
   "execution_count": null,
   "metadata": {
    "collapsed": true
   },
   "outputs": [],
   "source": []
  }
 ],
 "metadata": {
  "kernelspec": {
   "display_name": "Python 2",
   "language": "python",
   "name": "python2"
  },
  "language_info": {
   "codemirror_mode": {
    "name": "ipython",
    "version": 2
   },
   "file_extension": ".py",
   "mimetype": "text/x-python",
   "name": "python",
   "nbconvert_exporter": "python",
   "pygments_lexer": "ipython2",
   "version": "2.7.10"
  }
 },
 "nbformat": 4,
 "nbformat_minor": 2
}
