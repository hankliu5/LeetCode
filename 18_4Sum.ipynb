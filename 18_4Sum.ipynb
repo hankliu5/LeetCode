{
 "cells": [
  {
   "cell_type": "code",
   "execution_count": 1,
   "metadata": {},
   "outputs": [
    {
     "data": {
      "text/plain": [
       "[[-2, -1, 1, 2], [-2, 0, 0, 2], [-1, 0, 0, 1]]"
      ]
     },
     "execution_count": 1,
     "metadata": {},
     "output_type": "execute_result"
    }
   ],
   "source": [
    "# recursive, N-sum\n",
    "\n",
    "# The solution set must not contain duplicate quadruplets.\n",
    "class Solution(object):\n",
    "    def fourSum(self, nums, target):\n",
    "        \"\"\"\n",
    "        :type nums: List[int]\n",
    "        :type target: int\n",
    "        :rtype: List[List[int]]\n",
    "        \"\"\"\n",
    "        # critical step.\n",
    "        nums.sort()\n",
    "        results = []\n",
    "        self.findNSum(nums, target, 4, [], results)\n",
    "        return results\n",
    "    \n",
    "    def findNSum(self, nums, target, N, result, results):\n",
    "        if len(nums) < N or N < 2: \n",
    "            return\n",
    "        \n",
    "        # if 2-Sum, we can use 2 pointers to find the answer.\n",
    "        if N == 2:\n",
    "            l, r = 0, len(nums) - 1\n",
    "            while l < r:\n",
    "                if nums[l] + nums[r] == target:\n",
    "                    results.append(result + [nums[l], nums[r]])\n",
    "                    l += 1\n",
    "                    r -= 1\n",
    "                    # if the numbers are repeated, we need to skip.\n",
    "                    while l < r and nums[l] == nums[l - 1]:\n",
    "                        l += 1\n",
    "                    while l < r and nums[r] == nums[r + 1]:\n",
    "                        r -= 1\n",
    "                \n",
    "                # because of sorted array.\n",
    "                elif nums[l] + nums[r] < target:\n",
    "                    l += 1\n",
    "                else:\n",
    "                    r -= 1\n",
    "        # narrow down to 2 sum\n",
    "        else:\n",
    "            # need to leave some numbers for recursive calculation.\n",
    "            for i in range(len(nums)-N+1):\n",
    "                # because of sorted array, if fulfill these conditions, we won't find\n",
    "                # the answer in the narrow down calculation.\n",
    "                if target < nums[i]*N or target > nums[-1]*N: \n",
    "                    break\n",
    "                \n",
    "                # narrow down\n",
    "                # if i > 0, we have to consider about the repeated elements.\n",
    "                if i == 0 or (i > 0 and nums[i-1] != nums[i]):\n",
    "                    self.findNSum(nums[i+1:], target-nums[i], N-1, result+[nums[i]], results)\n",
    "\n",
    "s = Solution()\n",
    "s.fourSum([1,0,-1,0,-2,2], 0)"
   ]
  },
  {
   "cell_type": "code",
   "execution_count": null,
   "metadata": {
    "collapsed": true
   },
   "outputs": [],
   "source": []
  }
 ],
 "metadata": {
  "kernelspec": {
   "display_name": "Python 2",
   "language": "python",
   "name": "python2"
  },
  "language_info": {
   "codemirror_mode": {
    "name": "ipython",
    "version": 2
   },
   "file_extension": ".py",
   "mimetype": "text/x-python",
   "name": "python",
   "nbconvert_exporter": "python",
   "pygments_lexer": "ipython2",
   "version": "2.7.10"
  }
 },
 "nbformat": 4,
 "nbformat_minor": 2
}
