{
 "cells": [
  {
   "cell_type": "code",
   "execution_count": 7,
   "metadata": {},
   "outputs": [
    {
     "name": "stdout",
     "output_type": "stream",
     "text": [
      "65\n"
     ]
    }
   ],
   "source": [
    "class Solution(object):\n",
    "    def numberOfPatterns(self, m, n):\n",
    "        \"\"\"\n",
    "        :type m: int\n",
    "        :type n: int\n",
    "        :rtype: int\n",
    "        \"\"\"\n",
    "        self.flags = [False] * 10\n",
    "        \n",
    "        # rules mean it needs to pass through the other number from index i to its elements\n",
    "        self.rules = [{3,7,9},{8},{1,7,9},{6},set(),{4},{1,3,9},{2},{1,3,7}]\n",
    "        \n",
    "        return sum(4 * self.dfs(1, i) + 4 * self.dfs(2, i) + self.dfs(5, i) for i in range(m, n + 1))\n",
    "    \n",
    "\n",
    "    def dfs(self, value, count):\n",
    "        # end condition\n",
    "        if count == 1:\n",
    "            return 1\n",
    "        \n",
    "        ans = 0\n",
    "        \n",
    "        # marks this value has been visited\n",
    "        self.flags[value] = True\n",
    "        for i in range(1, 10):\n",
    "            # the next number has to be (1) not used and\n",
    "            # ((2) not through the other number or (3) the through number hasn't been used yet.)\n",
    "            if self.flags[i] is False and (i not in self.rules[value-1] or self.flags[(i+value)/2]):\n",
    "                ans += self.dfs(i, count - 1)\n",
    "        self.flags[value] = False\n",
    "        return ans\n",
    "\n",
    "s = Solution()\n",
    "print s.numberOfPatterns(1, 2)"
   ]
  },
  {
   "cell_type": "code",
   "execution_count": null,
   "metadata": {
    "collapsed": true
   },
   "outputs": [],
   "source": []
  }
 ],
 "metadata": {
  "kernelspec": {
   "display_name": "Python 2",
   "language": "python",
   "name": "python2"
  },
  "language_info": {
   "codemirror_mode": {
    "name": "ipython",
    "version": 2
   },
   "file_extension": ".py",
   "mimetype": "text/x-python",
   "name": "python",
   "nbconvert_exporter": "python",
   "pygments_lexer": "ipython2",
   "version": "2.7.10"
  }
 },
 "nbformat": 4,
 "nbformat_minor": 2
}
