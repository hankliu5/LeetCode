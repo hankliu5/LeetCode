{
 "cells": [
  {
   "cell_type": "code",
   "execution_count": null,
   "metadata": {
    "collapsed": true
   },
   "outputs": [],
   "source": [
    "# Linked-List, two pointers, Math\n",
    "\n",
    "# Definition for singly-linked list.\n",
    "# class ListNode(object):\n",
    "#     def __init__(self, x):\n",
    "#         self.val = x\n",
    "#         self.next = None\n",
    "\n",
    "# Assume two pointers first meet at step k, and the length of cycle is r\n",
    "# So 2k - k = k = nr\n",
    "# The distance between the start of cycle and the head is s\n",
    "# The distance between the meeting point and the head is m\n",
    "# s = k - m => s = nr - m => s + m = nr\n",
    "\n",
    "# After meeting together,\n",
    "# using one pointer start from the start node of list, another pointer start from the first meeting node, \n",
    "# all of them wake one step at a time, the first time they meeting each other is the start of the cycle.\n",
    "class Solution(object):\n",
    "    def detectCycle(self, head):\n",
    "        \"\"\"\n",
    "        :type head: ListNode\n",
    "        :rtype: ListNode\n",
    "        \"\"\"\n",
    "        fast, slow = head, head\n",
    "        while fast and fast.next:\n",
    "            slow = slow.next\n",
    "            fast = fast.next.next\n",
    "            if slow is fast:\n",
    "                break\n",
    "        else:\n",
    "            return None\n",
    "        \n",
    "        while head is not slow:\n",
    "            slow = slow.next\n",
    "            head = head.next\n",
    "        return head\n",
    "                "
   ]
  }
 ],
 "metadata": {
  "kernelspec": {
   "display_name": "Python 2",
   "language": "python",
   "name": "python2"
  },
  "language_info": {
   "codemirror_mode": {
    "name": "ipython",
    "version": 2
   },
   "file_extension": ".py",
   "mimetype": "text/x-python",
   "name": "python",
   "nbconvert_exporter": "python",
   "pygments_lexer": "ipython2",
   "version": "2.7.10"
  }
 },
 "nbformat": 4,
 "nbformat_minor": 2
}
