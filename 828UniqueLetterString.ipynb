{
 "cells": [
  {
   "cell_type": "code",
   "execution_count": 6,
   "metadata": {},
   "outputs": [
    {
     "name": "stdout",
     "output_type": "stream",
     "text": [
      "0 -1 3 3 1\n",
      "1 -1 3 2 2\n",
      "2 -1 3 1 3\n",
      "10\n",
      "0 -1 2 2 1\n",
      "1 -1 3 2 2\n",
      "2 0 3 1 2\n",
      "8\n",
      "0 -1 2 2 1\n",
      "1 -1 3 2 2\n",
      "2 0 4 2 2\n",
      "3 1 4 1 2\n",
      "12\n"
     ]
    }
   ],
   "source": [
    "# String, Search\n",
    "\n",
    "class Solution(object):\n",
    "    def uniqueLetterString(self, s):\n",
    "        n = len(s)\n",
    "        mod = 1000000007\n",
    "        ret = 0\n",
    "        for i in range(n):\n",
    "            l = i - 1\n",
    "            while l >= 0 and s[l] != s[i]:\n",
    "                l -= 1\n",
    "            r = i + 1\n",
    "            while r < n and s[r] != s[i]:\n",
    "                r += 1\n",
    "            ret += (r-i) * (i-l)\n",
    "            print i, l, r, r-i, i-l\n",
    "        return ret % mod\n",
    "\n",
    "s = Solution()\n",
    "print s.uniqueLetterString(\"abc\")\n",
    "print s.uniqueLetterString(\"aba\")\n",
    "print s.uniqueLetterString(\"abab\")"
   ]
  },
  {
   "cell_type": "code",
   "execution_count": null,
   "metadata": {
    "collapsed": true
   },
   "outputs": [],
   "source": []
  }
 ],
 "metadata": {
  "kernelspec": {
   "display_name": "Python 2",
   "language": "python",
   "name": "python2"
  },
  "language_info": {
   "codemirror_mode": {
    "name": "ipython",
    "version": 2
   },
   "file_extension": ".py",
   "mimetype": "text/x-python",
   "name": "python",
   "nbconvert_exporter": "python",
   "pygments_lexer": "ipython2",
   "version": "2.7.10"
  }
 },
 "nbformat": 4,
 "nbformat_minor": 2
}
