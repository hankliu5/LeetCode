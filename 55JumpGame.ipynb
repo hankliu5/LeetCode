{
 "cells": [
  {
   "cell_type": "code",
   "execution_count": 2,
   "metadata": {},
   "outputs": [
    {
     "name": "stdout",
     "output_type": "stream",
     "text": [
      "True\n",
      "False\n"
     ]
    }
   ],
   "source": [
    "# Math, backward, array\n",
    "\n",
    "class Solution(object):\n",
    "    def canJump(self, nums):\n",
    "        \"\"\"\n",
    "        :type nums: List[int]\n",
    "        :rtype: bool\n",
    "        \"\"\"\n",
    "        # initial goal\n",
    "        goal = len(nums) - 1\n",
    "        for i in range(len(nums))[::-1]:\n",
    "            # if fulfill, the current index can be a new goal\n",
    "            if i + nums[i] >= goal:\n",
    "                goal = i\n",
    "        \n",
    "        # true if the start point is a goal.\n",
    "        return True if goal == 0 else False\n",
    "\n",
    "s = Solution()\n",
    "print s.canJump([2,3,1,1,4])\n",
    "print s.canJump([3,2,1,0,4])"
   ]
  },
  {
   "cell_type": "code",
   "execution_count": null,
   "metadata": {
    "collapsed": true
   },
   "outputs": [],
   "source": []
  }
 ],
 "metadata": {
  "kernelspec": {
   "display_name": "Python 2",
   "language": "python",
   "name": "python2"
  },
  "language_info": {
   "codemirror_mode": {
    "name": "ipython",
    "version": 2
   },
   "file_extension": ".py",
   "mimetype": "text/x-python",
   "name": "python",
   "nbconvert_exporter": "python",
   "pygments_lexer": "ipython2",
   "version": "2.7.10"
  }
 },
 "nbformat": 4,
 "nbformat_minor": 2
}
