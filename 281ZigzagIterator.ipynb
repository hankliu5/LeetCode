{
 "cells": [
  {
   "cell_type": "code",
   "execution_count": null,
   "metadata": {
    "collapsed": true
   },
   "outputs": [],
   "source": [
    "# Array, Class Design, Iterator\n",
    "\n",
    "class ZigzagIterator(object):\n",
    "\n",
    "    def __init__(self, v1, v2):\n",
    "        \"\"\"\n",
    "        Initialize your data structure here.\n",
    "        :type v1: List[int]\n",
    "        :type v2: List[int]\n",
    "        \"\"\"\n",
    "        self.data = [(len(v), iter(v)) for v in (v1, v2) if v]\n",
    "        \n",
    "\n",
    "    def next(self):\n",
    "        \"\"\"\n",
    "        :rtype: int\n",
    "        \"\"\"\n",
    "        len_v, iter_v = self.data.pop(0)\n",
    "        if len_v > 1:\n",
    "            self.data.append((len_v - 1, iter_v))\n",
    "        \n",
    "        return next(iter_v)\n",
    "        \n",
    "\n",
    "    def hasNext(self):\n",
    "        \"\"\"\n",
    "        :rtype: bool\n",
    "        \"\"\"\n",
    "        return bool(self.data)\n",
    "        "
   ]
  }
 ],
 "metadata": {
  "kernelspec": {
   "display_name": "Python 2",
   "language": "python",
   "name": "python2"
  },
  "language_info": {
   "codemirror_mode": {
    "name": "ipython",
    "version": 2
   },
   "file_extension": ".py",
   "mimetype": "text/x-python",
   "name": "python",
   "nbconvert_exporter": "python",
   "pygments_lexer": "ipython2",
   "version": "2.7.10"
  }
 },
 "nbformat": 4,
 "nbformat_minor": 2
}
