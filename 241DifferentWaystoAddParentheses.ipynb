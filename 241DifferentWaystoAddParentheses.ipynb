{
 "cells": [
  {
   "cell_type": "code",
   "execution_count": null,
   "metadata": {
    "collapsed": true
   },
   "outputs": [],
   "source": [
    "# divide and conquer\n",
    "\n",
    "class Solution(object):\n",
    "    def diffWaysToCompute(self, num):\n",
    "        \"\"\"\n",
    "        :type input: str\n",
    "        :rtype: List[int]\n",
    "        \"\"\"\n",
    "        # base case\n",
    "        if num.isdigit():\n",
    "            return [int(num)]\n",
    "        \n",
    "        res = []\n",
    "        for i in range(len(num)):\n",
    "            if num[i] in \"-+*\":\n",
    "                res1 = self.diffWaysToCompute(num[:i])\n",
    "                res2 = self.diffWaysToCompute(num[i+1:])\n",
    "                # combination from both results\n",
    "                for j in res1:\n",
    "                    for k in res2:\n",
    "                        res.append(self.helper(j, k, num[i]))\n",
    "        return res\n",
    "    \n",
    "    # helper for operations.\n",
    "    def helper(self, m, n, op):\n",
    "        if op == \"+\":\n",
    "            return m+n\n",
    "        elif op == \"-\":\n",
    "            return m-n\n",
    "        else:\n",
    "            return m*n\n",
    "\n",
    "        "
   ]
  }
 ],
 "metadata": {
  "kernelspec": {
   "display_name": "Python 2",
   "language": "python",
   "name": "python2"
  },
  "language_info": {
   "codemirror_mode": {
    "name": "ipython",
    "version": 2
   },
   "file_extension": ".py",
   "mimetype": "text/x-python",
   "name": "python",
   "nbconvert_exporter": "python",
   "pygments_lexer": "ipython2",
   "version": "2.7.10"
  }
 },
 "nbformat": 4,
 "nbformat_minor": 2
}
