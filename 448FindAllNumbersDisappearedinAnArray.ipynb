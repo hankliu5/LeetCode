{
 "cells": [
  {
   "cell_type": "code",
   "execution_count": 1,
   "metadata": {},
   "outputs": [
    {
     "data": {
      "text/plain": [
       "[5, 6]"
      ]
     },
     "execution_count": 1,
     "metadata": {},
     "output_type": "execute_result"
    }
   ],
   "source": [
    "# Array, Math\n",
    "class Solution(object):\n",
    "    def findDisappearedNumbers(self, nums):\n",
    "        \"\"\"\n",
    "        :type nums: List[int], contains 1 ≤ a[i] ≤ n, some elements appear twice and others appear once.\n",
    "        :rtype: List[int]\n",
    "        \"\"\"\n",
    "        res = []\n",
    "        # iterates the array to negate the num. \n",
    "        # If some nums are negates twice (still positive), \n",
    "        # that means the index of the num is missing element.\n",
    "        for i in range(len(nums)):\n",
    "            idx = nums[i]\n",
    "            if nums[abs(idx)-1] > 0:\n",
    "                nums[abs(idx)-1] = -nums[abs(idx)-1]\n",
    "        \n",
    "        for i in range(len(nums)):\n",
    "            if nums[i] > 0:\n",
    "                res.append(i+1)\n",
    "        return res\n",
    "    \n",
    "s = Solution()\n",
    "s.findDisappearedNumbers([4,3,2,7,8,2,3,1])"
   ]
  },
  {
   "cell_type": "code",
   "execution_count": null,
   "metadata": {
    "collapsed": true
   },
   "outputs": [],
   "source": []
  }
 ],
 "metadata": {
  "kernelspec": {
   "display_name": "Python 2",
   "language": "python",
   "name": "python2"
  },
  "language_info": {
   "codemirror_mode": {
    "name": "ipython",
    "version": 2
   },
   "file_extension": ".py",
   "mimetype": "text/x-python",
   "name": "python",
   "nbconvert_exporter": "python",
   "pygments_lexer": "ipython2",
   "version": "2.7.10"
  }
 },
 "nbformat": 4,
 "nbformat_minor": 2
}
